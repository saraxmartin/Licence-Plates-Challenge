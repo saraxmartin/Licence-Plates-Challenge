{
 "cells": [
  {
   "cell_type": "markdown",
   "metadata": {},
   "source": [
    "# SVMs classifier "
   ]
  },
  {
   "cell_type": "markdown",
   "metadata": {},
   "source": [
    "Links to papers and related information:\n",
    "\n",
    "https://www.academia.edu/105567508/Design_of_Automatic_Number_Plate_Recognition_System_for_Yemeni_Vehicles_with_Support_Vector_Machine?nav_from=589832a2-802f-4a39-88b6-e15bc16559e1\n",
    "\n",
    "https://www.academia.edu/73123341/Saudi_License_Plate_Recognition_Algorithm_Based_on_Support_Vector_Machine?nav_from=4994dbac-b96a-4746-ac91-52791c1b17b3\n",
    "\n",
    "https://www.academia.edu/110187161/SVM_Based_License_Plate_Recognition_System?nav_from=36dcd588-c2c0-48f5-bf6c-6a6e18d1b73d\n",
    "\n",
    "https://github.com/ashutoshsuman99/License-Plate-Recognition-System/blob/master/model_creation.py\n",
    "\n",
    "https://github.com/Sardhendu/License-Plate-Detection/blob/master/Code/BldModel.py\n",
    "\n",
    "https://www.academia.edu/18906864/License_plate_recognition_based_on_support_vector_machine\n",
    "\n",
    "file:///C:/Users/ainav/OneDrive/Escritorio/Saudi_License_Plate_Recognition_Algorith.pdf\n",
    "\n",
    "file:///C:/Users/ainav/OneDrive/Escritorio/Design_of_Automatic_Number_Plate_Recogni.pdf"
   ]
  },
  {
   "cell_type": "markdown",
   "metadata": {},
   "source": [
    "### Libraries and general functions"
   ]
  },
  {
   "cell_type": "code",
   "execution_count": 89,
   "metadata": {},
   "outputs": [],
   "source": [
    "import joblib\n",
    "import os\n",
    "from sklearn.svm import SVC\n",
    "import cv2\n",
    "import numpy as np\n",
    "from sklearn.model_selection import train_test_split\n",
    "import matplotlib.pyplot as plt\n"
   ]
  },
  {
   "cell_type": "code",
   "execution_count": 90,
   "metadata": {},
   "outputs": [],
   "source": [
    "# preprocessing the image for the SVM\n",
    "def preprocess_image_svm(image_path):\n",
    "    char_image = cv2.imread(image_path, cv2.IMREAD_GRAYSCALE)\n",
    "    char_image = cv2.resize(char_image, (20, 20))  # Resize to match the training size\n",
    "    char_image_flattened = char_image.flatten()\n",
    "    return char_image_flattened"
   ]
  },
  {
   "cell_type": "markdown",
   "metadata": {},
   "source": [
    "## Plate Recognition using two SVM"
   ]
  },
  {
   "cell_type": "markdown",
   "metadata": {},
   "source": [
    "### Creation of the datasets"
   ]
  },
  {
   "cell_type": "markdown",
   "metadata": {},
   "source": [
    "Function to obtain our dataset of the folder SVMs"
   ]
  },
  {
   "cell_type": "code",
   "execution_count": 91,
   "metadata": {},
   "outputs": [],
   "source": [
    "ALLOWED_LETTERS = 'BCDFGHJKLMNPRSTVWXYZ'\n",
    "DIGITS = '0123456789'\n",
    "\n",
    "# Function to load images and labels\n",
    "def load_data(folder_path, classes):\n",
    "    train_data = []  # List to store feature vectors (flattened images)\n",
    "    train_labels = []  # List to store labels (corresponding letters/numbers)\n",
    "    \n",
    "    for class_name in classes:\n",
    "        class_folder = os.path.join(folder_path, class_name)\n",
    "        for filename in os.listdir(class_folder):\n",
    "            if filename.endswith(\".jpg\"):\n",
    "                img_path = os.path.join(class_folder, filename)\n",
    "                img = cv2.imread(img_path, cv2.IMREAD_GRAYSCALE)  # Read image as grayscale\n",
    "                img = cv2.resize(img, (20, 20))\n",
    "                img_flattened = img.flatten()  # Flatten image to 1D vector\n",
    "                train_data.append(img_flattened)\n",
    "                train_labels.append(class_name)  # Append the label (class name)\n",
    "    \n",
    "    return np.array(train_data), np.array(train_labels)"
   ]
  },
  {
   "cell_type": "markdown",
   "metadata": {},
   "source": [
    "Obtaining the training data of the digits"
   ]
  },
  {
   "cell_type": "code",
   "execution_count": 92,
   "metadata": {},
   "outputs": [],
   "source": [
    "# Paths to the digit and letter folders\n",
    "digit_folder_path = \"SVMs/Digits\"\n",
    "\n",
    "# Load digit data\n",
    "X_digits, y_digits = load_data(digit_folder_path, DIGITS)\n"
   ]
  },
  {
   "cell_type": "markdown",
   "metadata": {},
   "source": [
    "Obtaining the training data of the letters"
   ]
  },
  {
   "cell_type": "code",
   "execution_count": 93,
   "metadata": {},
   "outputs": [],
   "source": [
    "letter_folder_path = \"SVMs/Letters\"\n",
    "\n",
    "# Load letter data\n",
    "X_letters, y_letters = load_data(letter_folder_path, ALLOWED_LETTERS)\n"
   ]
  },
  {
   "cell_type": "code",
   "execution_count": 94,
   "metadata": {},
   "outputs": [
    {
     "name": "stdout",
     "output_type": "stream",
     "text": [
      " DIGITS DATASET\n",
      "Training data shape: (10300, 400)\n",
      "Number of unique classes: 10\n",
      "Classes: ['0' '1' '2' '3' '4' '5' '6' '7' '8' '9']\n",
      "\n",
      " LETTERS DATASET\n",
      "Training data shape: (20150, 400)\n",
      "Number of unique classes: 20\n",
      "Classes: ['B' 'C' 'D' 'F' 'G' 'H' 'J' 'K' 'L' 'M' 'N' 'P' 'R' 'S' 'T' 'V' 'W' 'X'\n",
      " 'Y' 'Z']\n"
     ]
    }
   ],
   "source": [
    "# Printing some information about the datasets\n",
    "\n",
    "print(f' DIGITS DATASET')\n",
    "print(f'Training data shape: {X_digits.shape}')\n",
    "print(f\"Number of unique classes: {len(np.unique(y_digits))}\")\n",
    "print(f\"Classes: {np.unique(y_digits)}\")\n",
    "\n",
    "\n",
    "\n",
    "print(f'\\n LETTERS DATASET')\n",
    "print(f'Training data shape: {X_letters.shape}')\n",
    "print(f\"Number of unique classes: {len(np.unique(y_letters))}\")\n",
    "print(f\"Classes: {np.unique(y_letters)}\")"
   ]
  },
  {
   "cell_type": "markdown",
   "metadata": {},
   "source": [
    "Saving all training data"
   ]
  },
  {
   "cell_type": "code",
   "execution_count": 95,
   "metadata": {},
   "outputs": [
    {
     "name": "stdout",
     "output_type": "stream",
     "text": [
      "Training data saved to SVMs/models_trained\\train_data_digits.pkl\n",
      "Training labels saved to SVMs/models_trained\\train_labels_digits.pkl\n",
      "Training data saved to SVMs/models_trained\\train_data_letters.pkl\n",
      "Training labels saved to SVMs/models_trained\\train_labels_letters.pkl\n"
     ]
    }
   ],
   "source": [
    "# Saving the numbers training data\n",
    "models_folder = \"SVMs/models_trained\"\n",
    "file_x_digits = 'train_data_digits.pkl'\n",
    "file_y_digits = 'train_labels_digits.pkl'\n",
    "\n",
    "#save the training data and labels\n",
    "digit_path_x = os.path.join(models_folder, file_x_digits)\n",
    "joblib.dump(X_digits, digit_path_x)\n",
    "print(f'Training data saved to {digit_path_x}')\n",
    "\n",
    "digit_path_y = os.path.join(models_folder, file_y_digits)\n",
    "joblib.dump(y_digits, digit_path_y)\n",
    "print(f'Training labels saved to {digit_path_y}')\n",
    "\n",
    "\n",
    "\n",
    "# Saving the letters training data\n",
    "file_x_letters = 'train_data_letters.pkl'\n",
    "file_y_letters = 'train_labels_letters.pkl'\n",
    "\n",
    "#save the training data and labels\n",
    "letter_path_x = os.path.join(models_folder, file_x_letters)\n",
    "joblib.dump(X_letters, letter_path_x)\n",
    "print(f'Training data saved to {letter_path_x}')\n",
    "\n",
    "letter_path_y = os.path.join(models_folder, file_y_letters)\n",
    "joblib.dump(y_letters, letter_path_y)\n",
    "print(f'Training labels saved to {letter_path_y}')"
   ]
  },
  {
   "cell_type": "markdown",
   "metadata": {},
   "source": [
    "### Creation of the SVMs models"
   ]
  },
  {
   "cell_type": "code",
   "execution_count": 96,
   "metadata": {},
   "outputs": [
    {
     "data": {
      "text/plain": [
       "['OCR_models/SVM\\\\svm_letters.pkl']"
      ]
     },
     "execution_count": 96,
     "metadata": {},
     "output_type": "execute_result"
    }
   ],
   "source": [
    "models_folder = \"SVMs/models_trained\"\n",
    "ocr_models = \"OCR_models/SVM\"\n",
    "\n",
    "\n",
    "#  Train SVM for digits\n",
    "svm_digits = SVC(kernel='rbf', C=1.0)\n",
    "svm_digits.fit(X_digits, y_digits)\n",
    "\n",
    "file_digits = 'svm_digits.pkl'\n",
    "#save the model\n",
    "path_digits = os.path.join(models_folder, file_digits)\n",
    "joblib.dump(svm_digits, path_digits)\n",
    "path_digits_ocr = os.path.join(ocr_models, file_digits)\n",
    "joblib.dump(svm_digits, path_digits_ocr)\n",
    "\n",
    "\n",
    "\n",
    "# Train SVM for letters\n",
    "svm_letters = SVC(kernel='rbf', C=1.0)\n",
    "svm_letters.fit(X_letters, y_letters)\n",
    "\n",
    "\n",
    "file_letters = 'svm_letters.pkl'\n",
    "#save the model\n",
    "path_letters = os.path.join(models_folder, file_letters)\n",
    "joblib.dump(svm_letters, path_letters)\n",
    "path_letters_ocr = os.path.join(ocr_models, file_letters)\n",
    "joblib.dump(svm_letters, path_letters_ocr)"
   ]
  },
  {
   "cell_type": "markdown",
   "metadata": {},
   "source": [
    "### Prediction functions"
   ]
  },
  {
   "cell_type": "code",
   "execution_count": 97,
   "metadata": {},
   "outputs": [],
   "source": [
    "#function to visualize the full plate prediction with the ground truth\n",
    "def visualize_full_plate_two_svm(plate_image_path, plate_type, predicted_plate, actual_plate):\n",
    "    img = cv2.imread(plate_image_path, cv2.IMREAD_GRAYSCALE)\n",
    "    \n",
    "    if img is None:\n",
    "        raise ValueError(f\"Could not load the image at {plate_image_path}\")\n",
    "    \n",
    "    # Create a directory path \n",
    "    save_dir = f'OCR_results/SVM'\n",
    "    \n",
    "    # Ensure the directory exists\n",
    "    os.makedirs(save_dir, exist_ok=True)\n",
    "    \n",
    "    # Construct the save path\n",
    "    plate_filename = os.path.basename(plate_image_path).replace('.jpg', '').replace('.png', '')  # Remove file extensions\n",
    "    save_path = os.path.join(save_dir, f'svm2_{plate_filename}_{plate_type}_prediction.png')\n",
    "    \n",
    "    # Display the plate image along with ground truth and predicted plate\n",
    "    plt.imshow(img, cmap='gray')\n",
    "    plt.title(f'Ground Truth: {actual_plate}\\nPredicted: {predicted_plate}')\n",
    "    plt.axis('off')\n",
    "    \n",
    "    # Save the visualization\n",
    "    plt.savefig(save_path, bbox_inches='tight', pad_inches=0)\n",
    "    plt.close()  # Close the plot to avoid display during batch processing\n",
    "\n",
    "    print(f\"Saved visualization to {save_path}\")"
   ]
  },
  {
   "cell_type": "code",
   "execution_count": 98,
   "metadata": {},
   "outputs": [],
   "source": [
    "# Predict characters from a segmented license plate\n",
    "def recognize_characters_two_svm(plate_folder_path, svm_numbers, svm_letters):\n",
    "    recognized_plate = []\n",
    "\n",
    "    for idx in range(1, 8):  #assuming 7 blobs (blob_1 to blob_7)\n",
    "        blob_filename = f'blob_{idx}.jpg'\n",
    "        blob_path = os.path.join(plate_folder_path, blob_filename)\n",
    "        if os.path.exists(blob_path):   \n",
    "            char_image = preprocess_image_svm(blob_path) \n",
    "            if idx < 5:  # First 4 characters should be digits\n",
    "                predicted_char = svm_numbers.predict([char_image])[0]\n",
    "            else:  # The last 3 characters should be letters\n",
    "                predicted_char = svm_letters.predict([char_image])[0]\n",
    "            \n",
    "            recognized_plate.append(predicted_char)\n",
    "\n",
    "    return ''.join(recognized_plate)\n"
   ]
  },
  {
   "cell_type": "code",
   "execution_count": 99,
   "metadata": {},
   "outputs": [],
   "source": [
    "def process_all_plates_two_svm(plate_digits_folder, plate_images_folder, svm_digits, svm_letters):\n",
    "    correct_predictions_char = 0\n",
    "    correct_predictions_plates = 0\n",
    "    total_characters = 0\n",
    "    total_plates = 0\n",
    "    \n",
    "    #traverse the 'frontal' and 'lateral' folders inside 'PlateDigits'\n",
    "    for plate_type in ['frontal', 'lateral', 'extra']:\n",
    "        plate_type_folder = os.path.join(plate_digits_folder, plate_type)\n",
    "        \n",
    "        #iterate through each license plate folder inside 'frontal' or 'lateral'\n",
    "        for root, dirs, _ in os.walk(plate_type_folder):\n",
    "            for dir_name in dirs:\n",
    "                plate_folder_path = os.path.join(root, dir_name)\n",
    "                \n",
    "                #the actual plate number is derived from the folder name, removing the '.jpg' extension\n",
    "                actual_plate = dir_name.replace('.jpg', '')  # Remove '.jpg'\n",
    "                \n",
    "                #predict the full plate by processing the 7 blobs\n",
    "                predicted_plate = recognize_characters_two_svm(plate_folder_path, svm_digits, svm_letters)\n",
    "                \n",
    "                #now search in PlateImages based on the 'plate_type' (frontal or lateral)\n",
    "                plate_image_path_jpg = os.path.join(plate_images_folder, plate_type.capitalize(), f'plate_{actual_plate}.jpg')\n",
    "                plate_image_path_png = os.path.join(plate_images_folder, plate_type.capitalize(), f'plate_{actual_plate}.png')\n",
    "                \n",
    "                #visualize the prediction with the plate image if it exists\n",
    "                if os.path.exists(plate_image_path_jpg):\n",
    "                    visualize_full_plate_two_svm(plate_image_path_jpg, plate_type, predicted_plate, actual_plate)\n",
    "                    print(f\"Processed Plate: {actual_plate} ({plate_type}) | Predicted: {predicted_plate}\")\n",
    "                elif os.path.exists(plate_image_path_png):\n",
    "                    visualize_full_plate_two_svm(plate_image_path_png, plate_type, predicted_plate, actual_plate)\n",
    "                    print(f\"Processed Plate: {actual_plate} ({plate_type}) | Predicted: {predicted_plate}\")\n",
    "                else:\n",
    "                    print(f\"Warning: Plate image for {actual_plate} in {plate_type.capitalize()} does not exist.\")\n",
    "\n",
    "                #update total characters and correct predictions\n",
    "                total_characters += len(actual_plate)  # Add the number of characters in the actual plate\n",
    "                correct_predictions_char += sum(1 for i in range(min(len(actual_plate), len(predicted_plate))) \n",
    "                                            if actual_plate[i] == predicted_plate[i])  # Count correct characters\n",
    "                # Update total plates and correct plate predictions\n",
    "                total_plates += 1  # Count total number of plates processed\n",
    "                if actual_plate == predicted_plate:  # Compare entire plate\n",
    "                    correct_predictions_plates += 1\n",
    "    \n",
    "    #compute and print accuracy based on individual characters\n",
    "    if total_characters > 0:\n",
    "        accuracy = (correct_predictions_char / total_characters) * 100\n",
    "        print(f\"\\nCharacter-Level Accuracy: {accuracy:.2f}% ({correct_predictions_char} correct out of {total_characters})\")\n",
    "    # Compute and print plate-level accuracy\n",
    "    if total_plates > 0:\n",
    "        plate_accuracy = (correct_predictions_plates / total_plates) * 100\n",
    "        print(f\"\\nPlate-Level Accuracy: {plate_accuracy:.2f}% ({correct_predictions_plates} correct out of {total_plates} plates)\")\n",
    "    else:\n",
    "        print(\"No characters were processed.\")"
   ]
  },
  {
   "cell_type": "markdown",
   "metadata": {},
   "source": [
    "### Validation with Frontal, Lateral and Extra"
   ]
  },
  {
   "cell_type": "code",
   "execution_count": 100,
   "metadata": {},
   "outputs": [
    {
     "name": "stdout",
     "output_type": "stream",
     "text": [
      "Saved visualization to OCR_results/SVM\\svm2_plate_1062FNT_frontal_prediction.png\n",
      "Processed Plate: 1062FNT (frontal) | Predicted: 1062FNT\n",
      "Saved visualization to OCR_results/SVM\\svm2_plate_1565HTS_frontal_prediction.png\n",
      "Processed Plate: 1565HTS (frontal) | Predicted: 1565HTS\n",
      "Saved visualization to OCR_results/SVM\\svm2_plate_2153GYX_frontal_prediction.png\n",
      "Processed Plate: 2153GYX (frontal) | Predicted: 2153GYX\n",
      "Saved visualization to OCR_results/SVM\\svm2_plate_2929KXJ_frontal_prediction.png\n",
      "Processed Plate: 2929KXJ (frontal) | Predicted: 2929KXJ\n",
      "Saved visualization to OCR_results/SVM\\svm2_plate_3340JMF_frontal_prediction.png\n",
      "Processed Plate: 3340JMF (frontal) | Predicted: 3340JWF\n",
      "Saved visualization to OCR_results/SVM\\svm2_plate_3587DCX_frontal_prediction.png\n",
      "Processed Plate: 3587DCX (frontal) | Predicted: 9987DCX\n",
      "Saved visualization to OCR_results/SVM\\svm2_plate_4674FHC_frontal_prediction.png\n",
      "Processed Plate: 4674FHC (frontal) | Predicted: 4674FHC\n",
      "Saved visualization to OCR_results/SVM\\svm2_plate_5275HGY_frontal_prediction.png\n",
      "Processed Plate: 5275HGY (frontal) | Predicted: 5275HGY\n",
      "Saved visualization to OCR_results/SVM\\svm2_plate_5488LKV_frontal_prediction.png\n",
      "Processed Plate: 5488LKV (frontal) | Predicted: 5488LKV\n",
      "Saved visualization to OCR_results/SVM\\svm2_plate_5796DKP_frontal_prediction.png\n",
      "Processed Plate: 5796DKP (frontal) | Predicted: 5796DKP\n",
      "Saved visualization to OCR_results/SVM\\svm2_plate_7067KSH_frontal_prediction.png\n",
      "Processed Plate: 7067KSH (frontal) | Predicted: 7067KSH\n",
      "Saved visualization to OCR_results/SVM\\svm2_plate_7153JWD_frontal_prediction.png\n",
      "Processed Plate: 7153JWD (frontal) | Predicted: 7153JMD\n",
      "Saved visualization to OCR_results/SVM\\svm2_plate_8727JTC_frontal_prediction.png\n",
      "Processed Plate: 8727JTC (frontal) | Predicted: 8727JTC\n",
      "Saved visualization to OCR_results/SVM\\svm2_plate_9247CZG_frontal_prediction.png\n",
      "Processed Plate: 9247CZG (frontal) | Predicted: 9247CZG\n",
      "Saved visualization to OCR_results/SVM\\svm2_plate_9892JFR_frontal_prediction.png\n",
      "Processed Plate: 9892JFR (frontal) | Predicted: 9892JFR\n",
      "Saved visualization to OCR_results/SVM\\svm2_plate_0182GLK_lateral_prediction.png\n",
      "Processed Plate: 0182GLK (lateral) | Predicted: 0182GLK\n",
      "Saved visualization to OCR_results/SVM\\svm2_plate_0907JRF_lateral_prediction.png\n",
      "Processed Plate: 0907JRF (lateral) | Predicted: 0907JRF\n",
      "Saved visualization to OCR_results/SVM\\svm2_plate_1498JBZ_lateral_prediction.png\n",
      "Processed Plate: 1498JBZ (lateral) | Predicted: 1498BZP\n",
      "Saved visualization to OCR_results/SVM\\svm2_plate_1556GMZ_lateral_prediction.png\n",
      "Processed Plate: 1556GMZ (lateral) | Predicted: 1556GNZ\n",
      "Saved visualization to OCR_results/SVM\\svm2_plate_2344KJP_lateral_prediction.png\n",
      "Processed Plate: 2344KJP (lateral) | Predicted: 2944KJP\n",
      "Saved visualization to OCR_results/SVM\\svm2_plate_3044JMB_lateral_prediction.png\n",
      "Processed Plate: 3044JMB (lateral) | Predicted: 4044JVB\n",
      "Saved visualization to OCR_results/SVM\\svm2_plate_3587DCX_lateral_prediction.png\n",
      "Processed Plate: 3587DCX (lateral) | Predicted: 3987DCX\n",
      "Saved visualization to OCR_results/SVM\\svm2_plate_3660CRT_lateral_prediction.png\n",
      "Processed Plate: 3660CRT (lateral) | Predicted: 3660CRT\n",
      "Saved visualization to OCR_results/SVM\\svm2_plate_4674FHC_lateral_prediction.png\n",
      "Processed Plate: 4674FHC (lateral) | Predicted: 4674FHC\n",
      "Saved visualization to OCR_results/SVM\\svm2_plate_5275HGY_lateral_prediction.png\n",
      "Processed Plate: 5275HGY (lateral) | Predicted: 5275HGY\n",
      "Saved visualization to OCR_results/SVM\\svm2_plate_5789JHB_lateral_prediction.png\n",
      "Processed Plate: 5789JHB (lateral) | Predicted: 5789JHB\n",
      "Saved visualization to OCR_results/SVM\\svm2_plate_5796DKP_lateral_prediction.png\n",
      "Processed Plate: 5796DKP (lateral) | Predicted: 9796DKP\n",
      "Saved visualization to OCR_results/SVM\\svm2_plate_6000GVT_lateral_prediction.png\n",
      "Processed Plate: 6000GVT (lateral) | Predicted: 6000GVT\n",
      "Saved visualization to OCR_results/SVM\\svm2_plate_6401JBX_lateral_prediction.png\n",
      "Processed Plate: 6401JBX (lateral) | Predicted: 6401JBX\n",
      "Saved visualization to OCR_results/SVM\\svm2_plate_6554BNX_lateral_prediction.png\n",
      "Processed Plate: 6554BNX (lateral) | Predicted: 6854BNX\n",
      "Saved visualization to OCR_results/SVM\\svm2_plate_6929LKK_lateral_prediction.png\n",
      "Processed Plate: 6929LKK (lateral) | Predicted: 6929LKK\n",
      "Saved visualization to OCR_results/SVM\\svm2_plate_8727JTC_lateral_prediction.png\n",
      "Processed Plate: 8727JTC (lateral) | Predicted: 8727JTC\n",
      "Saved visualization to OCR_results/SVM\\svm2_plate_0041LZN_extra_prediction.png\n",
      "Processed Plate: 0041LZN (extra) | Predicted: 0041ZJX\n",
      "Saved visualization to OCR_results/SVM\\svm2_plate_0129KMK_extra_prediction.png\n",
      "Processed Plate: 0129KMK (extra) | Predicted: 0129KWK\n",
      "Saved visualization to OCR_results/SVM\\svm2_plate_0195JHM_extra_prediction.png\n",
      "Processed Plate: 0195JHM (extra) | Predicted: 0195JHW\n",
      "Saved visualization to OCR_results/SVM\\svm2_plate_0226MPP_extra_prediction.png\n",
      "Processed Plate: 0226MPP (extra) | Predicted: 0226NPP\n",
      "Saved visualization to OCR_results/SVM\\svm2_plate_0560JDX_extra_prediction.png\n",
      "Processed Plate: 0560JDX (extra) | Predicted: 0564JDT\n",
      "Saved visualization to OCR_results/SVM\\svm2_plate_0649DHS_extra_prediction.png\n",
      "Processed Plate: 0649DHS (extra) | Predicted: 0649DSH\n",
      "Saved visualization to OCR_results/SVM\\svm2_plate_0804CZV_extra_prediction.png\n",
      "Processed Plate: 0804CZV (extra) | Predicted: 1164VKL\n",
      "Saved visualization to OCR_results/SVM\\svm2_plate_1072FRD_extra_prediction.png\n",
      "Processed Plate: 1072FRD (extra) | Predicted: 1072FRD\n",
      "Saved visualization to OCR_results/SVM\\svm2_plate_1111LRB_extra_prediction.png\n",
      "Processed Plate: 1111LRB (extra) | Predicted: 1111LRB\n",
      "Saved visualization to OCR_results/SVM\\svm2_plate_1339MMS_extra_prediction.png\n",
      "Processed Plate: 1339MMS (extra) | Predicted: 1399WWS\n",
      "Saved visualization to OCR_results/SVM\\svm2_plate_1426JVT_extra_prediction.png\n",
      "Processed Plate: 1426JVT (extra) | Predicted: 1426JVT\n",
      "Saved visualization to OCR_results/SVM\\svm2_plate_1599DLB_extra_prediction.png\n",
      "Processed Plate: 1599DLB (extra) | Predicted: 1599DLB\n",
      "Saved visualization to OCR_results/SVM\\svm2_plate_1612MHX_extra_prediction.png\n",
      "Processed Plate: 1612MHX (extra) | Predicted: 1612MHX\n",
      "Saved visualization to OCR_results/SVM\\svm2_plate_1855MHN_extra_prediction.png\n",
      "Processed Plate: 1855MHN (extra) | Predicted: 1855VHN\n",
      "Saved visualization to OCR_results/SVM\\svm2_plate_2953JHW_extra_prediction.png\n",
      "Processed Plate: 2953JHW (extra) | Predicted: 9533XVK\n",
      "Saved visualization to OCR_results/SVM\\svm2_plate_3161LNC_extra_prediction.png\n",
      "Processed Plate: 3161LNC (extra) | Predicted: 3161LNC\n",
      "Saved visualization to OCR_results/SVM\\svm2_plate_3691MTY_extra_prediction.png\n",
      "Processed Plate: 3691MTY (extra) | Predicted: 6614TYJ\n",
      "Saved visualization to OCR_results/SVM\\svm2_plate_3929GVS_extra_prediction.png\n",
      "Processed Plate: 3929GVS (extra) | Predicted: 3929GVS\n",
      "Warning: Plate image for 3964LXV.jpeg in Extra does not exist.\n",
      "Saved visualization to OCR_results/SVM\\svm2_plate_4181GWT_extra_prediction.png\n",
      "Processed Plate: 4181GWT (extra) | Predicted: 4181GMT\n",
      "Saved visualization to OCR_results/SVM\\svm2_plate_4283DJR_extra_prediction.png\n",
      "Processed Plate: 4283DJR (extra) | Predicted: 4283DJR\n",
      "Saved visualization to OCR_results/SVM\\svm2_plate_4887GKX_extra_prediction.png\n",
      "Processed Plate: 4887GKX (extra) | Predicted: 4887GKX\n",
      "Saved visualization to OCR_results/SVM\\svm2_plate_5052HLJ_extra_prediction.png\n",
      "Processed Plate: 5052HLJ (extra) | Predicted: 0520KJB\n",
      "Saved visualization to OCR_results/SVM\\svm2_plate_5133MBD_extra_prediction.png\n",
      "Processed Plate: 5133MBD (extra) | Predicted: 6133NBD\n",
      "Saved visualization to OCR_results/SVM\\svm2_plate_5172LTZ_extra_prediction.png\n",
      "Processed Plate: 5172LTZ (extra) | Predicted: 5172LTZ\n",
      "Saved visualization to OCR_results/SVM\\svm2_plate_5240KSW_extra_prediction.png\n",
      "Processed Plate: 5240KSW (extra) | Predicted: 9240KSV\n",
      "Saved visualization to OCR_results/SVM\\svm2_plate_5493DHZ_extra_prediction.png\n",
      "Processed Plate: 5493DHZ (extra) | Predicted: 5434DYK\n",
      "Saved visualization to OCR_results/SVM\\svm2_plate_6445HNP_extra_prediction.png\n",
      "Processed Plate: 6445HNP (extra) | Predicted: 8445HNP\n",
      "Saved visualization to OCR_results/SVM\\svm2_plate_6556KKH_extra_prediction.png\n",
      "Processed Plate: 6556KKH (extra) | Predicted: 6556KKH\n",
      "Saved visualization to OCR_results/SVM\\svm2_plate_6688KSW_extra_prediction.png\n",
      "Processed Plate: 6688KSW (extra) | Predicted: 6688KSK\n",
      "Saved visualization to OCR_results/SVM\\svm2_plate_6775BNF_extra_prediction.png\n",
      "Processed Plate: 6775BNF (extra) | Predicted: 6775BNF\n",
      "Saved visualization to OCR_results/SVM\\svm2_plate_7016MLZ_extra_prediction.png\n",
      "Processed Plate: 7016MLZ (extra) | Predicted: 0168LZJ\n",
      "Saved visualization to OCR_results/SVM\\svm2_plate_7254LJJ_extra_prediction.png\n",
      "Processed Plate: 7254LJJ (extra) | Predicted: 7264LJJ\n",
      "Saved visualization to OCR_results/SVM\\svm2_plate_7318GSB_extra_prediction.png\n",
      "Processed Plate: 7318GSB (extra) | Predicted: 7711TTJ\n",
      "Saved visualization to OCR_results/SVM\\svm2_plate_7746KBG_extra_prediction.png\n",
      "Processed Plate: 7746KBG (extra) | Predicted: 7745YPG\n",
      "Saved visualization to OCR_results/SVM\\svm2_plate_8120GLL_extra_prediction.png\n",
      "Processed Plate: 8120GLL (extra) | Predicted: 8120GLL\n",
      "Saved visualization to OCR_results/SVM\\svm2_plate_8597FSC_extra_prediction.png\n",
      "Processed Plate: 8597FSC (extra) | Predicted: 8597FSC\n",
      "Saved visualization to OCR_results/SVM\\svm2_plate_8778LVY_extra_prediction.png\n",
      "Processed Plate: 8778LVY (extra) | Predicted: 8778LVY\n",
      "Warning: Plate image for 8953JXP.jpeg in Extra does not exist.\n",
      "Saved visualization to OCR_results/SVM\\svm2_plate_9395MSB_extra_prediction.png\n",
      "Processed Plate: 9395MSB (extra) | Predicted: 9399VSB\n",
      "Saved visualization to OCR_results/SVM\\svm2_plate_9603LFP_extra_prediction.png\n",
      "Processed Plate: 9603LFP (extra) | Predicted: 9609LFP\n",
      "Saved visualization to OCR_results/SVM\\svm2_plate_9603MPD_extra_prediction.png\n",
      "Processed Plate: 9603MPD (extra) | Predicted: 9603VPD\n",
      "\n",
      "Character-Level Accuracy: 82.20% (434 correct out of 528)\n",
      "\n",
      "Plate-Level Accuracy: 50.00% (37 correct out of 74 plates)\n"
     ]
    }
   ],
   "source": [
    "plate_digits_folder = 'PlateDigits'  # Contains 'frontal' and 'lateral' with blobs\n",
    "plate_images_folder = 'PlateImages'  # Contains full plate images\n",
    "\n",
    "#run the function to process and visualize all plates and compute accuracy\n",
    "process_all_plates_two_svm(plate_digits_folder, plate_images_folder, svm_digits, svm_letters)"
   ]
  },
  {
   "cell_type": "markdown",
   "metadata": {},
   "source": [
    "### HYPERPARAMETRIZATION with only Frontal and Lateral"
   ]
  },
  {
   "cell_type": "markdown",
   "metadata": {},
   "source": [
    "SVC LINEAR AND C=1.0\n",
    "Char - 89.73%\n",
    "Plate - 59.38%\n",
    "\n",
    "SVC RBF AND C=1.0\n",
    "Char - 93.30%\n",
    "Plate - 68.75%\n",
    "\n",
    "SVC POLY AND C=1.0\n",
    "Char - 87.95%\n",
    "Plate - 59.38%\n",
    "\n",
    "SVC SIGMOID AND C=1.0\n",
    "Char - 11.61%\n",
    "Plate - 0.00%\n",
    "\n",
    "\n",
    "\n"
   ]
  },
  {
   "cell_type": "markdown",
   "metadata": {},
   "source": [
    "### HYPERPARAMETRIZATION with the three datasets"
   ]
  },
  {
   "cell_type": "markdown",
   "metadata": {},
   "source": [
    "SVC LINEAR AND C=1.0\n",
    "Char - 78.41%\n",
    "Plate - 40.54%\n",
    "\n",
    "SVC RBF AND C=1.0\n",
    "Char - 82.20%\n",
    "Plate - 50.00%\n",
    "\n",
    "SVC POLY AND C=1.0\n",
    "Char - 76.33%\n",
    "Plate - 36.49%\n",
    "\n",
    "SVC SIGMOID AND C=1.0\n",
    "Char - 13.45%\n",
    "Plate - 0.00%\n",
    "\n",
    "\n",
    "\n"
   ]
  },
  {
   "cell_type": "markdown",
   "metadata": {},
   "source": [
    "## Plate recognition using one SVM"
   ]
  },
  {
   "cell_type": "markdown",
   "metadata": {},
   "source": [
    "### Creation of the dataset"
   ]
  },
  {
   "cell_type": "code",
   "execution_count": 101,
   "metadata": {},
   "outputs": [],
   "source": [
    "# Function to load images and labels\n",
    "def load_data(folder_path):\n",
    "    train_data = []  # List to store feature vectors (flattened images)\n",
    "    train_labels = []  # List to store labels (corresponding letters/numbers)\n",
    "\n",
    "    for label in os.listdir(folder_path):\n",
    "        label_path = os.path.join(folder_path, label)\n",
    "        for img_name in os.listdir(label_path):\n",
    "            img_path = os.path.join(label_path, img_name)\n",
    "            img = cv2.imread(img_path, cv2.IMREAD_GRAYSCALE)  # Read image as grayscale\n",
    "            img = cv2.resize(img, (20, 20))\n",
    "            img_flattened = img.flatten()  # Flatten image to 1D vector\n",
    "            train_data.append(img_flattened)\n",
    "            train_labels.append(label)  # Append the label (class name)\n",
    "    \n",
    "    return np.array(train_data), np.array(train_labels)"
   ]
  },
  {
   "cell_type": "code",
   "execution_count": 102,
   "metadata": {},
   "outputs": [],
   "source": [
    "# Paths to the digit and letter folders\n",
    "train_path = \"CNN letter Dataset\"\n",
    "\n",
    "# Load digit data\n",
    "X_train, y_train = load_data(train_path)"
   ]
  },
  {
   "cell_type": "code",
   "execution_count": 103,
   "metadata": {},
   "outputs": [
    {
     "name": "stdout",
     "output_type": "stream",
     "text": [
      " DIGITS DATASET\n",
      "Training data shape: (30450, 400)\n",
      "Number of unique classes: 30\n",
      "Classes: ['0' '1' '2' '3' '4' '5' '6' '7' '8' '9' 'B' 'C' 'D' 'F' 'G' 'H' 'J' 'K'\n",
      " 'L' 'M' 'N' 'P' 'R' 'S' 'T' 'V' 'W' 'X' 'Y' 'Z']\n"
     ]
    }
   ],
   "source": [
    "# Printing some information about the datasets\n",
    "\n",
    "print(f' DIGITS DATASET')\n",
    "print(f'Training data shape: {X_train.shape}')\n",
    "print(f\"Number of unique classes: {len(np.unique(y_train))}\")\n",
    "print(f\"Classes: {np.unique(y_train)}\")"
   ]
  },
  {
   "cell_type": "code",
   "execution_count": 104,
   "metadata": {},
   "outputs": [
    {
     "name": "stdout",
     "output_type": "stream",
     "text": [
      "Training data saved to SVMs/models_trained\\train_data_one_svm.pkl\n",
      "Training labels saved to SVMs/models_trained\\train_labels_one_svm.pkl\n"
     ]
    }
   ],
   "source": [
    "# Saving the numbers training data\n",
    "models_folder = \"SVMs/models_trained\"\n",
    "file_x = 'train_data_one_svm.pkl'\n",
    "file_y = 'train_labels_one_svm.pkl'\n",
    "\n",
    "#save the training data and labels\n",
    "path_x = os.path.join(models_folder, file_x)\n",
    "joblib.dump(X_train, path_x)\n",
    "print(f'Training data saved to {path_x}')\n",
    "\n",
    "path_y = os.path.join(models_folder, file_y)\n",
    "joblib.dump(y_train, path_y)\n",
    "print(f'Training labels saved to {path_y}')"
   ]
  },
  {
   "cell_type": "markdown",
   "metadata": {},
   "source": [
    "### Creating the SVM model"
   ]
  },
  {
   "cell_type": "code",
   "execution_count": 105,
   "metadata": {},
   "outputs": [
    {
     "data": {
      "text/plain": [
       "['OCR_models/SVM\\\\svm_only.pkl']"
      ]
     },
     "execution_count": 105,
     "metadata": {},
     "output_type": "execute_result"
    }
   ],
   "source": [
    "#  Train SVM\n",
    "svm_only = SVC(kernel='rbf', C=1.0)\n",
    "svm_only.fit(X_train, y_train)\n",
    "\n",
    "models_folder = \"SVMs/models_trained\"\n",
    "ocr_models = \"OCR_models/SVM\"\n",
    "\n",
    "file_name = 'svm_only.pkl'\n",
    "#save the model\n",
    "path_only_svm = os.path.join(models_folder, file_name)\n",
    "joblib.dump(svm_only, path_only_svm)\n",
    "path_only_svm_ocr = os.path.join(ocr_models, file_name)\n",
    "joblib.dump(svm_only, path_only_svm_ocr)"
   ]
  },
  {
   "cell_type": "markdown",
   "metadata": {},
   "source": [
    "### Prediction"
   ]
  },
  {
   "cell_type": "code",
   "execution_count": 106,
   "metadata": {},
   "outputs": [],
   "source": [
    "#function to visualize the full plate prediction with the ground truth\n",
    "def visualize_full_plate_one_svm(plate_image_path, plate_type, predicted_plate, actual_plate):\n",
    "    img = cv2.imread(plate_image_path, cv2.IMREAD_GRAYSCALE)\n",
    "    \n",
    "    if img is None:\n",
    "        raise ValueError(f\"Could not load the image at {plate_image_path}\")\n",
    "    \n",
    "    # Create a directory path \n",
    "    save_dir = f'OCR_results/SVM'\n",
    "    \n",
    "    # Ensure the directory exists\n",
    "    os.makedirs(save_dir, exist_ok=True)\n",
    "    \n",
    "    # Construct the save path\n",
    "    plate_filename = os.path.basename(plate_image_path).replace('.jpg', '').replace('.png', '')  # Remove file extensions\n",
    "    save_path = os.path.join(save_dir, f'svm1_{plate_filename}_{plate_type}_prediction.png')\n",
    "    \n",
    "    # Display the plate image along with ground truth and predicted plate\n",
    "    plt.imshow(img, cmap='gray')\n",
    "    plt.title(f'Ground Truth: {actual_plate}\\nPredicted: {predicted_plate}')\n",
    "    plt.axis('off')\n",
    "    \n",
    "    # Save the visualization\n",
    "    plt.savefig(save_path, bbox_inches='tight', pad_inches=0)\n",
    "    plt.close()  # Close the plot to avoid display during batch processing\n",
    "\n",
    "    print(f\"Saved visualization to {save_path}\")"
   ]
  },
  {
   "cell_type": "code",
   "execution_count": 107,
   "metadata": {},
   "outputs": [],
   "source": [
    "# Predict characters from a segmented license plate\n",
    "def recognize_characters_one_svm(plate_folder_path, svm_only):\n",
    "    recognized_plate = []\n",
    "\n",
    "    for idx in range(1, 8):  #assuming 7 blobs (blob_1 to blob_7)\n",
    "        blob_filename = f'blob_{idx}.jpg'\n",
    "        blob_path = os.path.join(plate_folder_path, blob_filename)\n",
    "        if os.path.exists(blob_path):   \n",
    "            char_image = preprocess_image_svm(blob_path) \n",
    "            predicted = svm_only.predict([char_image])[0]\n",
    "\n",
    "            \n",
    "            recognized_plate.append(predicted)\n",
    "\n",
    "    return ''.join(recognized_plate)"
   ]
  },
  {
   "cell_type": "code",
   "execution_count": 108,
   "metadata": {},
   "outputs": [],
   "source": [
    "def process_all_plates(plate_digits_folder, plate_images_folder, svm_only):\n",
    "    correct_predictions_char = 0\n",
    "    correct_predictions_plates = 0\n",
    "    total_characters = 0\n",
    "    total_plates = 0\n",
    "    \n",
    "    \n",
    "    #traverse the 'frontal' and 'lateral' folders inside 'PlateDigits'\n",
    "    for plate_type in ['Frontal', 'Lateral', 'Extra']:\n",
    "        plate_type_folder = os.path.join(plate_digits_folder, plate_type)\n",
    "        \n",
    "    #iterate through each license plate folder inside 'frontal' or 'lateral'\n",
    "    for root, dirs, _ in os.walk(plate_type_folder):\n",
    "        for dir_name in dirs:\n",
    "            plate_folder_path = os.path.join(root, dir_name)\n",
    "            \n",
    "            #the actual plate number is derived from the folder name, removing the '.jpg' extension\n",
    "            actual_plate = dir_name.replace('.jpg', '')  # Remove '.jpg'\n",
    "            \n",
    "            #predict the full plate by processing the 7 blobs\n",
    "            predicted_plate = recognize_characters_one_svm(plate_folder_path, svm_only)\n",
    "            \n",
    "            #now search in PlateImages based on the 'plate_type' (frontal or lateral)\n",
    "            plate_image_path_jpg = os.path.join(plate_images_folder, plate_type.capitalize(), f'plate_{actual_plate}.jpg')\n",
    "            plate_image_path_png = os.path.join(plate_images_folder, plate_type.capitalize(), f'plate_{actual_plate}.png')\n",
    "\n",
    "            #visualize the prediction with the plate image if it exists\n",
    "            if os.path.exists(plate_image_path_jpg):\n",
    "                visualize_full_plate_one_svm(plate_image_path_jpg, plate_type, predicted_plate, actual_plate)\n",
    "                print(f\"Processed Plate: {actual_plate} ({plate_type}) | Predicted: {predicted_plate}\")\n",
    "            elif os.path.exists(plate_image_path_png):\n",
    "                visualize_full_plate_one_svm(plate_image_path_png, plate_type, predicted_plate, actual_plate)\n",
    "                print(f\"Processed Plate: {actual_plate} ({plate_type}) | Predicted: {predicted_plate}\")\n",
    "            else:\n",
    "                print(f\"Warning: Plate image for {actual_plate} in {plate_type.capitalize()} does not exist.\")\n",
    "\n",
    "            #update total characters and correct predictions\n",
    "            total_characters += len(actual_plate)  # Add the number of characters in the actual plate\n",
    "            correct_predictions_char += sum(1 for i in range(min(len(actual_plate), len(predicted_plate))) \n",
    "                                        if actual_plate[i] == predicted_plate[i])  # Count correct characters\n",
    "            # Update total plates and correct plate predictions\n",
    "            total_plates += 1  # Count total number of plates processed\n",
    "            if actual_plate == predicted_plate:  # Compare entire plate\n",
    "                correct_predictions_plates += 1\n",
    "    \n",
    "    #compute and print accuracy based on individual characters\n",
    "    if total_characters > 0:\n",
    "        accuracy = (correct_predictions_char / total_characters) * 100\n",
    "        print(f\"\\nCharacter-Level Accuracy: {accuracy:.2f}% ({correct_predictions_char} correct out of {total_characters})\")\n",
    "    # Compute and print plate-level accuracy\n",
    "    if total_plates > 0:\n",
    "        plate_accuracy = (correct_predictions_plates / total_plates) * 100\n",
    "        print(f\"\\nPlate-Level Accuracy: {plate_accuracy:.2f}% ({correct_predictions_plates} correct out of {total_plates} plates)\")\n",
    "    else:\n",
    "        print(\"No characters were processed.\")"
   ]
  },
  {
   "cell_type": "markdown",
   "metadata": {},
   "source": [
    "### Validation with Frontal, Lateral and Extra"
   ]
  },
  {
   "cell_type": "code",
   "execution_count": 109,
   "metadata": {},
   "outputs": [
    {
     "name": "stdout",
     "output_type": "stream",
     "text": [
      "Saved visualization to OCR_results/SVM\\svm1_plate_0041LZN_Extra_prediction.png\n",
      "Processed Plate: 0041LZN (Extra) | Predicted: 004Y404\n",
      "Saved visualization to OCR_results/SVM\\svm1_plate_0129KMK_Extra_prediction.png\n",
      "Processed Plate: 0129KMK (Extra) | Predicted: 0129KWK\n",
      "Saved visualization to OCR_results/SVM\\svm1_plate_0195JHM_Extra_prediction.png\n",
      "Processed Plate: 0195JHM (Extra) | Predicted: 0195JHW\n",
      "Saved visualization to OCR_results/SVM\\svm1_plate_0226MPP_Extra_prediction.png\n",
      "Processed Plate: 0226MPP (Extra) | Predicted: 0226NPP\n",
      "Saved visualization to OCR_results/SVM\\svm1_plate_0560JDX_Extra_prediction.png\n",
      "Processed Plate: 0560JDX (Extra) | Predicted: 0S64JD7\n",
      "Saved visualization to OCR_results/SVM\\svm1_plate_0649DHS_Extra_prediction.png\n",
      "Processed Plate: 0649DHS (Extra) | Predicted: 06490SH\n",
      "Saved visualization to OCR_results/SVM\\svm1_plate_0804CZV_Extra_prediction.png\n",
      "Processed Plate: 0804CZV (Extra) | Predicted: 1T6NV4L\n",
      "Saved visualization to OCR_results/SVM\\svm1_plate_1072FRD_Extra_prediction.png\n",
      "Processed Plate: 1072FRD (Extra) | Predicted: 1072FRD\n",
      "Saved visualization to OCR_results/SVM\\svm1_plate_1111LRB_Extra_prediction.png\n",
      "Processed Plate: 1111LRB (Extra) | Predicted: 1111LRB\n",
      "Saved visualization to OCR_results/SVM\\svm1_plate_1339MMS_Extra_prediction.png\n",
      "Processed Plate: 1339MMS (Extra) | Predicted: 1399WWS\n",
      "Saved visualization to OCR_results/SVM\\svm1_plate_1426JVT_Extra_prediction.png\n",
      "Processed Plate: 1426JVT (Extra) | Predicted: 1426JVT\n",
      "Saved visualization to OCR_results/SVM\\svm1_plate_1599DLB_Extra_prediction.png\n",
      "Processed Plate: 1599DLB (Extra) | Predicted: 1S99DLB\n",
      "Saved visualization to OCR_results/SVM\\svm1_plate_1612MHX_Extra_prediction.png\n",
      "Processed Plate: 1612MHX (Extra) | Predicted: 1612MHX\n",
      "Saved visualization to OCR_results/SVM\\svm1_plate_1855MHN_Extra_prediction.png\n",
      "Processed Plate: 1855MHN (Extra) | Predicted: 18SSVHN\n",
      "Saved visualization to OCR_results/SVM\\svm1_plate_2953JHW_Extra_prediction.png\n",
      "Processed Plate: 2953JHW (Extra) | Predicted: 953JXVK\n",
      "Saved visualization to OCR_results/SVM\\svm1_plate_3161LNC_Extra_prediction.png\n",
      "Processed Plate: 3161LNC (Extra) | Predicted: 3161LNC\n",
      "Saved visualization to OCR_results/SVM\\svm1_plate_3691MTY_Extra_prediction.png\n",
      "Processed Plate: 3691MTY (Extra) | Predicted: 661VTY4\n",
      "Saved visualization to OCR_results/SVM\\svm1_plate_3929GVS_Extra_prediction.png\n",
      "Processed Plate: 3929GVS (Extra) | Predicted: 3929GVS\n",
      "Warning: Plate image for 3964LXV.jpeg in Extra does not exist.\n",
      "Saved visualization to OCR_results/SVM\\svm1_plate_4181GWT_Extra_prediction.png\n",
      "Processed Plate: 4181GWT (Extra) | Predicted: 4181GMT\n",
      "Saved visualization to OCR_results/SVM\\svm1_plate_4283DJR_Extra_prediction.png\n",
      "Processed Plate: 4283DJR (Extra) | Predicted: 42830JR\n",
      "Saved visualization to OCR_results/SVM\\svm1_plate_4887GKX_Extra_prediction.png\n",
      "Processed Plate: 4887GKX (Extra) | Predicted: 4887GKX\n",
      "Saved visualization to OCR_results/SVM\\svm1_plate_5052HLJ_Extra_prediction.png\n",
      "Processed Plate: 5052HLJ (Extra) | Predicted: 0S20KJ0\n",
      "Saved visualization to OCR_results/SVM\\svm1_plate_5133MBD_Extra_prediction.png\n",
      "Processed Plate: 5133MBD (Extra) | Predicted: S133NB0\n",
      "Saved visualization to OCR_results/SVM\\svm1_plate_5172LTZ_Extra_prediction.png\n",
      "Processed Plate: 5172LTZ (Extra) | Predicted: S172LTZ\n",
      "Saved visualization to OCR_results/SVM\\svm1_plate_5240KSW_Extra_prediction.png\n",
      "Processed Plate: 5240KSW (Extra) | Predicted: S240KSV\n",
      "Saved visualization to OCR_results/SVM\\svm1_plate_5493DHZ_Extra_prediction.png\n",
      "Processed Plate: 5493DHZ (Extra) | Predicted: BN34762\n",
      "Saved visualization to OCR_results/SVM\\svm1_plate_6445HNP_Extra_prediction.png\n",
      "Processed Plate: 6445HNP (Extra) | Predicted: 8445HNP\n",
      "Saved visualization to OCR_results/SVM\\svm1_plate_6556KKH_Extra_prediction.png\n",
      "Processed Plate: 6556KKH (Extra) | Predicted: 6SS6KKH\n",
      "Saved visualization to OCR_results/SVM\\svm1_plate_6688KSW_Extra_prediction.png\n",
      "Processed Plate: 6688KSW (Extra) | Predicted: 6688KSK\n",
      "Saved visualization to OCR_results/SVM\\svm1_plate_6775BNF_Extra_prediction.png\n",
      "Processed Plate: 6775BNF (Extra) | Predicted: 67758NF\n",
      "Saved visualization to OCR_results/SVM\\svm1_plate_7016MLZ_Extra_prediction.png\n",
      "Processed Plate: 7016MLZ (Extra) | Predicted: 016NLZ0\n",
      "Saved visualization to OCR_results/SVM\\svm1_plate_7254LJJ_Extra_prediction.png\n",
      "Processed Plate: 7254LJJ (Extra) | Predicted: 72S4LJJ\n",
      "Saved visualization to OCR_results/SVM\\svm1_plate_7318GSB_Extra_prediction.png\n",
      "Processed Plate: 7318GSB (Extra) | Predicted: 40KYTT4\n",
      "Saved visualization to OCR_results/SVM\\svm1_plate_7746KBG_Extra_prediction.png\n",
      "Processed Plate: 7746KBG (Extra) | Predicted: 77KSYPG\n",
      "Saved visualization to OCR_results/SVM\\svm1_plate_8120GLL_Extra_prediction.png\n",
      "Processed Plate: 8120GLL (Extra) | Predicted: B120GLL\n",
      "Saved visualization to OCR_results/SVM\\svm1_plate_8597FSC_Extra_prediction.png\n",
      "Processed Plate: 8597FSC (Extra) | Predicted: 8S97FSC\n",
      "Saved visualization to OCR_results/SVM\\svm1_plate_8778LVY_Extra_prediction.png\n",
      "Processed Plate: 8778LVY (Extra) | Predicted: 8778LVY\n",
      "Warning: Plate image for 8953JXP.jpeg in Extra does not exist.\n",
      "Saved visualization to OCR_results/SVM\\svm1_plate_9395MSB_Extra_prediction.png\n",
      "Processed Plate: 9395MSB (Extra) | Predicted: 939SVSB\n",
      "Saved visualization to OCR_results/SVM\\svm1_plate_9603LFP_Extra_prediction.png\n",
      "Processed Plate: 9603LFP (Extra) | Predicted: 9609LFP\n",
      "Saved visualization to OCR_results/SVM\\svm1_plate_9603MPD_Extra_prediction.png\n",
      "Processed Plate: 9603MPD (Extra) | Predicted: 9603VP0\n",
      "\n",
      "Character-Level Accuracy: 65.79% (200 correct out of 304)\n",
      "\n",
      "Plate-Level Accuracy: 19.05% (8 correct out of 42 plates)\n"
     ]
    }
   ],
   "source": [
    "plate_digits_folder = 'PlateDigits'  # Contains 'frontal' and 'lateral' with blobs\n",
    "plate_images_folder = 'PlateImages'  # Contains full plate images\n",
    "\n",
    "#run the function to process and visualize all plates and compute accuracy\n",
    "process_all_plates(plate_digits_folder, plate_images_folder, svm_only)"
   ]
  },
  {
   "cell_type": "markdown",
   "metadata": {},
   "source": [
    "### HYPERPARAMETIZATION of only frontal and lateral"
   ]
  },
  {
   "cell_type": "markdown",
   "metadata": {},
   "source": [
    "SVC LINEAR AND C=1.0\n",
    "Char - 85.27%\n",
    "Plate - 43.75%\n",
    "\n",
    "SVC RBF AND C=1.0\n",
    "Char - 85.27%\n",
    "Plate - 43.75%\n",
    "\n",
    "SVC POLY AND C=1.0\n",
    "Char - 85.71%\n",
    "Plate - 50.00%\n",
    "\n",
    "SVC SIGMOID AND C=1.0\n",
    "Char - 7.14%\n",
    "Plate - 0.00%\n",
    "\n",
    "\n",
    "\n"
   ]
  },
  {
   "cell_type": "markdown",
   "metadata": {},
   "source": [
    "### HYPERPARAMETIZATION with frontal, lateral and extra"
   ]
  },
  {
   "cell_type": "markdown",
   "metadata": {},
   "source": [
    "SVC LINEAR AND C=1.0\n",
    "Char - 65.13%\n",
    "Plate - 11.90%\n",
    "\n",
    "SVC RBF AND C=1.0\n",
    "Char - 65.79%\n",
    "Plate - 19.05%\n",
    "\n",
    "SVC POLY AND C=1.0\n",
    "Char - 63.82%\n",
    "Plate - 7.14%\n",
    "\n",
    "SVC SIGMOID AND C=1.0\n",
    "Char - 8.55%\n",
    "Plate - 0.00%\n",
    "\n",
    "\n",
    "\n"
   ]
  }
 ],
 "metadata": {
  "kernelspec": {
   "display_name": "license_plates",
   "language": "python",
   "name": "python3"
  },
  "language_info": {
   "codemirror_mode": {
    "name": "ipython",
    "version": 3
   },
   "file_extension": ".py",
   "mimetype": "text/x-python",
   "name": "python",
   "nbconvert_exporter": "python",
   "pygments_lexer": "ipython3",
   "version": "3.12.6"
  }
 },
 "nbformat": 4,
 "nbformat_minor": 2
}
