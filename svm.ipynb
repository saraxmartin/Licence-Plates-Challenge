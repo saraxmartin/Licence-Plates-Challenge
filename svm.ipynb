{
 "cells": [
  {
   "cell_type": "markdown",
   "metadata": {},
   "source": [
    "# SVMs classifier "
   ]
  },
  {
   "cell_type": "markdown",
   "metadata": {},
   "source": [
    "Links to papers and related information:\n",
    "\n",
    "https://www.academia.edu/105567508/Design_of_Automatic_Number_Plate_Recognition_System_for_Yemeni_Vehicles_with_Support_Vector_Machine?nav_from=589832a2-802f-4a39-88b6-e15bc16559e1\n",
    "\n",
    "https://www.academia.edu/73123341/Saudi_License_Plate_Recognition_Algorithm_Based_on_Support_Vector_Machine?nav_from=4994dbac-b96a-4746-ac91-52791c1b17b3\n",
    "\n",
    "https://www.academia.edu/110187161/SVM_Based_License_Plate_Recognition_System?nav_from=36dcd588-c2c0-48f5-bf6c-6a6e18d1b73d\n",
    "\n",
    "https://github.com/ashutoshsuman99/License-Plate-Recognition-System/blob/master/model_creation.py\n",
    "\n",
    "https://github.com/Sardhendu/License-Plate-Detection/blob/master/Code/BldModel.py\n",
    "\n",
    "https://www.academia.edu/18906864/License_plate_recognition_based_on_support_vector_machine\n",
    "\n",
    "file:///C:/Users/ainav/OneDrive/Escritorio/Saudi_License_Plate_Recognition_Algorith.pdf\n",
    "\n",
    "file:///C:/Users/ainav/OneDrive/Escritorio/Design_of_Automatic_Number_Plate_Recogni.pdf"
   ]
  },
  {
   "cell_type": "markdown",
   "metadata": {},
   "source": [
    "### Libraries"
   ]
  },
  {
   "cell_type": "code",
   "execution_count": 1,
   "metadata": {},
   "outputs": [],
   "source": [
    "import joblib\n",
    "import os\n",
    "from sklearn.svm import SVC\n",
    "import cv2\n",
    "import numpy as np\n",
    "from sklearn.model_selection import train_test_split\n",
    "import matplotlib.pyplot as plt\n"
   ]
  },
  {
   "cell_type": "markdown",
   "metadata": {},
   "source": [
    "## Plate Recognition using two SVM"
   ]
  },
  {
   "cell_type": "markdown",
   "metadata": {},
   "source": [
    "### Creation of the datasets"
   ]
  },
  {
   "cell_type": "markdown",
   "metadata": {},
   "source": [
    "Function to obtain our dataset of the folder SVMs"
   ]
  },
  {
   "cell_type": "code",
   "execution_count": 2,
   "metadata": {},
   "outputs": [],
   "source": [
    "ALLOWED_LETTERS = 'BCDFGHJKLMNPRSTVWXYZ'\n",
    "DIGITS = '0123456789'\n",
    "\n",
    "# Function to load images and labels\n",
    "def load_data(folder_path, classes):\n",
    "    train_data = []  # List to store feature vectors (flattened images)\n",
    "    train_labels = []  # List to store labels (corresponding letters/numbers)\n",
    "    \n",
    "    for class_name in classes:\n",
    "        class_folder = os.path.join(folder_path, class_name)\n",
    "        for filename in os.listdir(class_folder):\n",
    "            if filename.endswith(\".jpg\"):\n",
    "                img_path = os.path.join(class_folder, filename)\n",
    "                img = cv2.imread(img_path, cv2.IMREAD_GRAYSCALE)  # Read image as grayscale\n",
    "                img = cv2.resize(img, (20, 20))\n",
    "                img_flattened = img.flatten()  # Flatten image to 1D vector\n",
    "                train_data.append(img_flattened)\n",
    "                train_labels.append(class_name)  # Append the label (class name)\n",
    "    \n",
    "    return np.array(train_data), np.array(train_labels)"
   ]
  },
  {
   "cell_type": "markdown",
   "metadata": {},
   "source": [
    "Obtaining the training data of the digits"
   ]
  },
  {
   "cell_type": "code",
   "execution_count": 3,
   "metadata": {},
   "outputs": [],
   "source": [
    "# Paths to the digit and letter folders\n",
    "digit_folder_path = \"SVMs/Digits\"\n",
    "\n",
    "# Load digit data\n",
    "X_digits, y_digits = load_data(digit_folder_path, DIGITS)\n"
   ]
  },
  {
   "cell_type": "markdown",
   "metadata": {},
   "source": [
    "Obtaining the training data of the letters"
   ]
  },
  {
   "cell_type": "code",
   "execution_count": 4,
   "metadata": {},
   "outputs": [],
   "source": [
    "letter_folder_path = \"SVMs/Letters\"\n",
    "\n",
    "# Load letter data\n",
    "X_letters, y_letters = load_data(letter_folder_path, ALLOWED_LETTERS)\n"
   ]
  },
  {
   "cell_type": "code",
   "execution_count": 5,
   "metadata": {},
   "outputs": [
    {
     "name": "stdout",
     "output_type": "stream",
     "text": [
      " DIGITS DATASET\n",
      "Training data shape: (10300, 400)\n",
      "Number of unique classes: 10\n",
      "Classes: ['0' '1' '2' '3' '4' '5' '6' '7' '8' '9']\n",
      "\n",
      " LETTERS DATASET\n",
      "Training data shape: (20150, 400)\n",
      "Number of unique classes: 20\n",
      "Classes: ['B' 'C' 'D' 'F' 'G' 'H' 'J' 'K' 'L' 'M' 'N' 'P' 'R' 'S' 'T' 'V' 'W' 'X'\n",
      " 'Y' 'Z']\n"
     ]
    }
   ],
   "source": [
    "# Printing some information about the datasets\n",
    "\n",
    "print(f' DIGITS DATASET')\n",
    "print(f'Training data shape: {X_digits.shape}')\n",
    "print(f\"Number of unique classes: {len(np.unique(y_digits))}\")\n",
    "print(f\"Classes: {np.unique(y_digits)}\")\n",
    "\n",
    "\n",
    "\n",
    "print(f'\\n LETTERS DATASET')\n",
    "print(f'Training data shape: {X_letters.shape}')\n",
    "print(f\"Number of unique classes: {len(np.unique(y_letters))}\")\n",
    "print(f\"Classes: {np.unique(y_letters)}\")"
   ]
  },
  {
   "cell_type": "markdown",
   "metadata": {},
   "source": [
    "Saving all training data"
   ]
  },
  {
   "cell_type": "code",
   "execution_count": 6,
   "metadata": {},
   "outputs": [
    {
     "name": "stdout",
     "output_type": "stream",
     "text": [
      "Training data saved to SVMs/models_trained\\train_data_digits.pkl\n",
      "Training labels saved to SVMs/models_trained\\train_labels_digits.pkl\n",
      "Training data saved to SVMs/models_trained\\train_data_letters.pkl\n",
      "Training labels saved to SVMs/models_trained\\train_labels_letters.pkl\n"
     ]
    }
   ],
   "source": [
    "# Saving the numbers training data\n",
    "models_folder = \"SVMs/models_trained\"\n",
    "file_x_digits = 'train_data_digits.pkl'\n",
    "file_y_digits = 'train_labels_digits.pkl'\n",
    "\n",
    "#save the training data and labels\n",
    "digit_path_x = os.path.join(models_folder, file_x_digits)\n",
    "joblib.dump(X_digits, digit_path_x)\n",
    "print(f'Training data saved to {digit_path_x}')\n",
    "\n",
    "digit_path_y = os.path.join(models_folder, file_y_digits)\n",
    "joblib.dump(y_digits, digit_path_y)\n",
    "print(f'Training labels saved to {digit_path_y}')\n",
    "\n",
    "\n",
    "\n",
    "# Saving the letters training data\n",
    "file_x_letters = 'train_data_letters.pkl'\n",
    "file_y_letters = 'train_labels_letters.pkl'\n",
    "\n",
    "#save the training data and labels\n",
    "letter_path_x = os.path.join(models_folder, file_x_letters)\n",
    "joblib.dump(X_letters, letter_path_x)\n",
    "print(f'Training data saved to {letter_path_x}')\n",
    "\n",
    "letter_path_y = os.path.join(models_folder, file_y_letters)\n",
    "joblib.dump(y_letters, letter_path_y)\n",
    "print(f'Training labels saved to {letter_path_y}')"
   ]
  },
  {
   "cell_type": "markdown",
   "metadata": {},
   "source": [
    "### Creation of the SVMs models"
   ]
  },
  {
   "cell_type": "code",
   "execution_count": 7,
   "metadata": {},
   "outputs": [
    {
     "data": {
      "text/plain": [
       "['OCR_models/SVM\\\\svm_letters.pkl']"
      ]
     },
     "execution_count": 7,
     "metadata": {},
     "output_type": "execute_result"
    }
   ],
   "source": [
    "models_folder = \"SVMs/models_trained\"\n",
    "ocr_models = \"OCR_models/SVM\"\n",
    "\n",
    "\n",
    "#  Train SVM for digits\n",
    "svm_digits = SVC(kernel='rbf', C=1.0)\n",
    "svm_digits.fit(X_digits, y_digits)\n",
    "\n",
    "file_digits = 'svm_digits.pkl'\n",
    "#save the model\n",
    "path_digits = os.path.join(models_folder, file_digits)\n",
    "joblib.dump(svm_digits, path_digits)\n",
    "path_digits_ocr = os.path.join(ocr_models, file_digits)\n",
    "joblib.dump(svm_digits, path_digits_ocr)\n",
    "\n",
    "\n",
    "\n",
    "# Train SVM for letters\n",
    "svm_letters = SVC(kernel='rbf', C=1.0)\n",
    "svm_letters.fit(X_letters, y_letters)\n",
    "\n",
    "\n",
    "file_letters = 'svm_letters.pkl'\n",
    "#save the model\n",
    "path_letters = os.path.join(models_folder, file_letters)\n",
    "joblib.dump(svm_letters, path_letters)\n",
    "path_letters_ocr = os.path.join(ocr_models, file_letters)\n",
    "joblib.dump(svm_letters, path_letters_ocr)"
   ]
  },
  {
   "cell_type": "markdown",
   "metadata": {},
   "source": [
    "### Prediction functions"
   ]
  },
  {
   "cell_type": "code",
   "execution_count": 8,
   "metadata": {},
   "outputs": [],
   "source": [
    "#function to visualize the full plate prediction with the ground truth\n",
    "def visualize_full_plate(plate_image_path, predicted_plate, actual_plate):\n",
    "    img = cv2.imread(plate_image_path, cv2.IMREAD_GRAYSCALE)\n",
    "    \n",
    "    if img is None:\n",
    "        raise ValueError(f\"Could not load the image at {plate_image_path}\")\n",
    "    \n",
    "    # Create a directory path \n",
    "    save_dir = f'OCR_results/SVM'\n",
    "    \n",
    "    # Ensure the directory exists\n",
    "    os.makedirs(save_dir, exist_ok=True)\n",
    "    \n",
    "    # Construct the save path\n",
    "    plate_filename = os.path.basename(plate_image_path).replace('.jpg', '').replace('.png', '')  # Remove file extensions\n",
    "    save_path = os.path.join(save_dir, f'{plate_filename}_prediction.png')\n",
    "    \n",
    "    # Display the plate image along with ground truth and predicted plate\n",
    "    plt.imshow(img, cmap='gray')\n",
    "    plt.title(f'Ground Truth: {actual_plate}\\nPredicted: {predicted_plate}')\n",
    "    plt.axis('off')\n",
    "    \n",
    "    # Save the visualization\n",
    "    plt.savefig(save_path, bbox_inches='tight', pad_inches=0)\n",
    "    plt.close()  # Close the plot to avoid display during batch processing\n",
    "\n",
    "    print(f\"Saved visualization to {save_path}\")\n",
    "\n",
    "# preprocessing the image for the SVM\n",
    "def preprocess_image_svm(image_path):\n",
    "    char_image = cv2.imread(image_path, cv2.IMREAD_GRAYSCALE)\n",
    "    char_image = cv2.resize(char_image, (20, 20))  # Resize to match the training size\n",
    "    char_image_flattened = char_image.flatten()\n",
    "    return char_image_flattened"
   ]
  },
  {
   "cell_type": "code",
   "execution_count": 9,
   "metadata": {},
   "outputs": [],
   "source": [
    "# Predict characters from a segmented license plate\n",
    "def recognize_characters(plate_folder_path, svm_numbers, svm_letters):\n",
    "    recognized_plate = []\n",
    "\n",
    "    for idx in range(1, 8):  #assuming 7 blobs (blob_1 to blob_7)\n",
    "        blob_filename = f'blob_{idx}.jpg'\n",
    "        blob_path = os.path.join(plate_folder_path, blob_filename)\n",
    "        if os.path.exists(blob_path):   \n",
    "            char_image = preprocess_image_svm(blob_path) \n",
    "            if idx < 5:  # First 4 characters should be digits\n",
    "                predicted_char = svm_numbers.predict([char_image])[0]\n",
    "            else:  # The last 3 characters should be letters\n",
    "                predicted_char = svm_letters.predict([char_image])[0]\n",
    "            \n",
    "            recognized_plate.append(predicted_char)\n",
    "\n",
    "    return ''.join(recognized_plate)\n"
   ]
  },
  {
   "cell_type": "code",
   "execution_count": 11,
   "metadata": {},
   "outputs": [],
   "source": [
    "def process_all_plates(plate_digits_folder, plate_images_folder, svm_digits, svm_letters):\n",
    "    correct_predictions_char = 0\n",
    "    correct_predictions_plates = 0\n",
    "    total_characters = 0\n",
    "    total_plates = 0\n",
    "    \n",
    "    #traverse the 'frontal' and 'lateral' folders inside 'PlateDigits'\n",
    "    for plate_type in ['frontal', 'lateral']:\n",
    "        plate_type_folder = os.path.join(plate_digits_folder, plate_type)\n",
    "        \n",
    "        #iterate through each license plate folder inside 'frontal' or 'lateral'\n",
    "        for root, dirs, _ in os.walk(plate_type_folder):\n",
    "            for dir_name in dirs:\n",
    "                plate_folder_path = os.path.join(root, dir_name)\n",
    "                \n",
    "                #the actual plate number is derived from the folder name, removing the '.jpg' extension\n",
    "                actual_plate = dir_name.replace('.jpg', '')  # Remove '.jpg'\n",
    "                \n",
    "                #predict the full plate by processing the 7 blobs\n",
    "                predicted_plate = recognize_characters(plate_folder_path, svm_digits, svm_letters)\n",
    "                \n",
    "                #now search in PlateImages based on the 'plate_type' (frontal or lateral)\n",
    "                plate_image_path_jpg = os.path.join(plate_images_folder, plate_type.capitalize(), f'plate_{actual_plate}.jpg')\n",
    "                plate_image_path_png = os.path.join(plate_images_folder, plate_type.capitalize(), f'plate_{actual_plate}.png')\n",
    "                \n",
    "                #visualize the prediction with the plate image if it exists\n",
    "                if os.path.exists(plate_image_path_jpg):\n",
    "                    visualize_full_plate(plate_image_path_jpg, predicted_plate, actual_plate)\n",
    "                    print(f\"Processed Plate: {actual_plate} ({plate_type}) | Predicted: {predicted_plate}\")\n",
    "                elif os.path.exists(plate_image_path_png):\n",
    "                    visualize_full_plate(plate_image_path_png, predicted_plate, actual_plate)\n",
    "                    print(f\"Processed Plate: {actual_plate} ({plate_type}) | Predicted: {predicted_plate}\")\n",
    "                else:\n",
    "                    print(f\"Warning: Plate image for {actual_plate} in {plate_type.capitalize()} does not exist.\")\n",
    "\n",
    "                #update total characters and correct predictions\n",
    "                total_characters += len(actual_plate)  # Add the number of characters in the actual plate\n",
    "                correct_predictions_char += sum(1 for i in range(min(len(actual_plate), len(predicted_plate))) \n",
    "                                            if actual_plate[i] == predicted_plate[i])  # Count correct characters\n",
    "                # Update total plates and correct plate predictions\n",
    "                total_plates += 1  # Count total number of plates processed\n",
    "                if actual_plate == predicted_plate:  # Compare entire plate\n",
    "                    correct_predictions_plates += 1\n",
    "    \n",
    "    #compute and print accuracy based on individual characters\n",
    "    if total_characters > 0:\n",
    "        accuracy = (correct_predictions_char / total_characters) * 100\n",
    "        print(f\"\\nCharacter-Level Accuracy: {accuracy:.2f}% ({correct_predictions_char} correct out of {total_characters})\")\n",
    "    # Compute and print plate-level accuracy\n",
    "    if total_plates > 0:\n",
    "        plate_accuracy = (correct_predictions_plates / total_plates) * 100\n",
    "        print(f\"\\nPlate-Level Accuracy: {plate_accuracy:.2f}% ({correct_predictions_plates} correct out of {total_plates} plates)\")\n",
    "    else:\n",
    "        print(\"No characters were processed.\")"
   ]
  },
  {
   "cell_type": "markdown",
   "metadata": {},
   "source": [
    "### Testing"
   ]
  },
  {
   "cell_type": "code",
   "execution_count": 12,
   "metadata": {},
   "outputs": [
    {
     "name": "stdout",
     "output_type": "stream",
     "text": [
      "PlateImages\\Frontal\\plate_1062FNT.jpg\n",
      "PlateImages\\Frontal\\plate_1062FNT.png\n",
      "Saved visualization to OCR_results/SVM\\plate_1062FNT_prediction.png\n",
      "Processed Plate: 1062FNT (frontal) | Predicted: 1062FNT\n",
      "PlateImages\\Frontal\\plate_1565HTS.jpg\n",
      "PlateImages\\Frontal\\plate_1565HTS.png\n",
      "Saved visualization to OCR_results/SVM\\plate_1565HTS_prediction.png\n",
      "Processed Plate: 1565HTS (frontal) | Predicted: 1565HTS\n",
      "PlateImages\\Frontal\\plate_2153GYX.jpg\n",
      "PlateImages\\Frontal\\plate_2153GYX.png\n",
      "Saved visualization to OCR_results/SVM\\plate_2153GYX_prediction.png\n",
      "Processed Plate: 2153GYX (frontal) | Predicted: 2153GYX\n",
      "PlateImages\\Frontal\\plate_2929KXJ.jpg\n",
      "PlateImages\\Frontal\\plate_2929KXJ.png\n",
      "Saved visualization to OCR_results/SVM\\plate_2929KXJ_prediction.png\n",
      "Processed Plate: 2929KXJ (frontal) | Predicted: 2929KXJ\n",
      "PlateImages\\Frontal\\plate_3340JMF.jpg\n",
      "PlateImages\\Frontal\\plate_3340JMF.png\n",
      "Saved visualization to OCR_results/SVM\\plate_3340JMF_prediction.png\n",
      "Processed Plate: 3340JMF (frontal) | Predicted: 3340JWF\n",
      "PlateImages\\Frontal\\plate_3587DCX.jpg\n",
      "PlateImages\\Frontal\\plate_3587DCX.png\n",
      "Saved visualization to OCR_results/SVM\\plate_3587DCX_prediction.png\n",
      "Processed Plate: 3587DCX (frontal) | Predicted: 9987DCX\n",
      "PlateImages\\Frontal\\plate_4674FHC.jpg\n",
      "PlateImages\\Frontal\\plate_4674FHC.png\n",
      "Saved visualization to OCR_results/SVM\\plate_4674FHC_prediction.png\n",
      "Processed Plate: 4674FHC (frontal) | Predicted: 4674FHC\n",
      "PlateImages\\Frontal\\plate_5275HGY.jpg\n",
      "PlateImages\\Frontal\\plate_5275HGY.png\n",
      "Saved visualization to OCR_results/SVM\\plate_5275HGY_prediction.png\n",
      "Processed Plate: 5275HGY (frontal) | Predicted: 5275HGY\n",
      "PlateImages\\Frontal\\plate_5488LKV.jpg\n",
      "PlateImages\\Frontal\\plate_5488LKV.png\n",
      "Saved visualization to OCR_results/SVM\\plate_5488LKV_prediction.png\n",
      "Processed Plate: 5488LKV (frontal) | Predicted: 5488LKV\n",
      "PlateImages\\Frontal\\plate_5796DKP.jpg\n",
      "PlateImages\\Frontal\\plate_5796DKP.png\n",
      "Saved visualization to OCR_results/SVM\\plate_5796DKP_prediction.png\n",
      "Processed Plate: 5796DKP (frontal) | Predicted: 5796DKP\n",
      "PlateImages\\Frontal\\plate_7067KSH.jpg\n",
      "PlateImages\\Frontal\\plate_7067KSH.png\n",
      "Saved visualization to OCR_results/SVM\\plate_7067KSH_prediction.png\n",
      "Processed Plate: 7067KSH (frontal) | Predicted: 7067KSH\n",
      "PlateImages\\Frontal\\plate_7153JWD.jpg\n",
      "PlateImages\\Frontal\\plate_7153JWD.png\n",
      "Saved visualization to OCR_results/SVM\\plate_7153JWD_prediction.png\n",
      "Processed Plate: 7153JWD (frontal) | Predicted: 7153JMD\n",
      "PlateImages\\Frontal\\plate_8727JTC.jpg\n",
      "PlateImages\\Frontal\\plate_8727JTC.png\n",
      "Saved visualization to OCR_results/SVM\\plate_8727JTC_prediction.png\n",
      "Processed Plate: 8727JTC (frontal) | Predicted: 8727JTC\n",
      "PlateImages\\Frontal\\plate_9247CZG.jpg\n",
      "PlateImages\\Frontal\\plate_9247CZG.png\n",
      "Saved visualization to OCR_results/SVM\\plate_9247CZG_prediction.png\n",
      "Processed Plate: 9247CZG (frontal) | Predicted: 9247CZG\n",
      "PlateImages\\Frontal\\plate_9892JFR.jpg\n",
      "PlateImages\\Frontal\\plate_9892JFR.png\n",
      "Saved visualization to OCR_results/SVM\\plate_9892JFR_prediction.png\n",
      "Processed Plate: 9892JFR (frontal) | Predicted: 9892JFR\n",
      "PlateImages\\Lateral\\plate_0182GLK.jpg\n",
      "PlateImages\\Lateral\\plate_0182GLK.png\n",
      "Saved visualization to OCR_results/SVM\\plate_0182GLK_prediction.png\n",
      "Processed Plate: 0182GLK (lateral) | Predicted: 0182GLK\n",
      "PlateImages\\Lateral\\plate_0907JRF.jpg\n",
      "PlateImages\\Lateral\\plate_0907JRF.png\n",
      "Saved visualization to OCR_results/SVM\\plate_0907JRF_prediction.png\n",
      "Processed Plate: 0907JRF (lateral) | Predicted: 0907JRF\n",
      "PlateImages\\Lateral\\plate_1498JBZ.jpg\n",
      "PlateImages\\Lateral\\plate_1498JBZ.png\n",
      "Saved visualization to OCR_results/SVM\\plate_1498JBZ_prediction.png\n",
      "Processed Plate: 1498JBZ (lateral) | Predicted: 1498BZP\n",
      "PlateImages\\Lateral\\plate_1556GMZ.jpg\n",
      "PlateImages\\Lateral\\plate_1556GMZ.png\n",
      "Saved visualization to OCR_results/SVM\\plate_1556GMZ_prediction.png\n",
      "Processed Plate: 1556GMZ (lateral) | Predicted: 1556GNZ\n",
      "PlateImages\\Lateral\\plate_2344KJP.jpg\n",
      "PlateImages\\Lateral\\plate_2344KJP.png\n",
      "Saved visualization to OCR_results/SVM\\plate_2344KJP_prediction.png\n",
      "Processed Plate: 2344KJP (lateral) | Predicted: 2944KJP\n",
      "PlateImages\\Lateral\\plate_3044JMB.jpg\n",
      "PlateImages\\Lateral\\plate_3044JMB.png\n",
      "Saved visualization to OCR_results/SVM\\plate_3044JMB_prediction.png\n",
      "Processed Plate: 3044JMB (lateral) | Predicted: 4044JVB\n",
      "PlateImages\\Lateral\\plate_3587DCX.jpg\n",
      "PlateImages\\Lateral\\plate_3587DCX.png\n",
      "Saved visualization to OCR_results/SVM\\plate_3587DCX_prediction.png\n",
      "Processed Plate: 3587DCX (lateral) | Predicted: 3987DCX\n",
      "PlateImages\\Lateral\\plate_3660CRT.jpg\n",
      "PlateImages\\Lateral\\plate_3660CRT.png\n",
      "Saved visualization to OCR_results/SVM\\plate_3660CRT_prediction.png\n",
      "Processed Plate: 3660CRT (lateral) | Predicted: 3660CRT\n",
      "PlateImages\\Lateral\\plate_4674FHC.jpg\n",
      "PlateImages\\Lateral\\plate_4674FHC.png\n",
      "Saved visualization to OCR_results/SVM\\plate_4674FHC_prediction.png\n",
      "Processed Plate: 4674FHC (lateral) | Predicted: 4674FHC\n",
      "PlateImages\\Lateral\\plate_5275HGY.jpg\n",
      "PlateImages\\Lateral\\plate_5275HGY.png\n",
      "Saved visualization to OCR_results/SVM\\plate_5275HGY_prediction.png\n",
      "Processed Plate: 5275HGY (lateral) | Predicted: 5275HGY\n",
      "PlateImages\\Lateral\\plate_5789JHB.jpg\n",
      "PlateImages\\Lateral\\plate_5789JHB.png\n",
      "Saved visualization to OCR_results/SVM\\plate_5789JHB_prediction.png\n",
      "Processed Plate: 5789JHB (lateral) | Predicted: 5789JHB\n",
      "PlateImages\\Lateral\\plate_5796DKP.jpg\n",
      "PlateImages\\Lateral\\plate_5796DKP.png\n",
      "Saved visualization to OCR_results/SVM\\plate_5796DKP_prediction.png\n",
      "Processed Plate: 5796DKP (lateral) | Predicted: 9796DKP\n",
      "PlateImages\\Lateral\\plate_6000GVT.jpg\n",
      "PlateImages\\Lateral\\plate_6000GVT.png\n",
      "Saved visualization to OCR_results/SVM\\plate_6000GVT_prediction.png\n",
      "Processed Plate: 6000GVT (lateral) | Predicted: 6000GVT\n",
      "PlateImages\\Lateral\\plate_6401JBX.jpg\n",
      "PlateImages\\Lateral\\plate_6401JBX.png\n",
      "Saved visualization to OCR_results/SVM\\plate_6401JBX_prediction.png\n",
      "Processed Plate: 6401JBX (lateral) | Predicted: 6401JBX\n",
      "PlateImages\\Lateral\\plate_6554BNX.jpg\n",
      "PlateImages\\Lateral\\plate_6554BNX.png\n",
      "Saved visualization to OCR_results/SVM\\plate_6554BNX_prediction.png\n",
      "Processed Plate: 6554BNX (lateral) | Predicted: 6854BNX\n",
      "PlateImages\\Lateral\\plate_6929LKK.jpg\n",
      "PlateImages\\Lateral\\plate_6929LKK.png\n",
      "Saved visualization to OCR_results/SVM\\plate_6929LKK_prediction.png\n",
      "Processed Plate: 6929LKK (lateral) | Predicted: 6929LKK\n",
      "PlateImages\\Lateral\\plate_8727JTC.jpg\n",
      "PlateImages\\Lateral\\plate_8727JTC.png\n",
      "Saved visualization to OCR_results/SVM\\plate_8727JTC_prediction.png\n",
      "Processed Plate: 8727JTC (lateral) | Predicted: 8727JTC\n",
      "\n",
      "Character-Level Accuracy: 93.75% (210 correct out of 224)\n",
      "\n",
      "Plate-Level Accuracy: 68.75% (22 correct out of 32 plates)\n"
     ]
    }
   ],
   "source": [
    "plate_digits_folder = 'PlateDigits'  # Contains 'frontal' and 'lateral' with blobs\n",
    "plate_images_folder = 'PlateImages'  # Contains full plate images\n",
    "\n",
    "#run the function to process and visualize all plates and compute accuracy\n",
    "process_all_plates(plate_digits_folder, plate_images_folder, svm_digits, svm_letters)"
   ]
  },
  {
   "cell_type": "markdown",
   "metadata": {},
   "source": [
    "### HYPERPARAMETRIZATION"
   ]
  },
  {
   "cell_type": "markdown",
   "metadata": {},
   "source": [
    "SVC LINEAR AND C=1.0\n",
    "Char - 89.73%\n",
    "Plate - 59.38%\n",
    "\n",
    "SVC RBF AND C=1.0\n",
    "Char - 93.30%\n",
    "Plate - 68.75%\n",
    "\n",
    "SVC POLY AND C=1.0\n",
    "Char - 87.95%\n",
    "Plate - 59.38%\n",
    "\n",
    "SVC SIGMOID AND C=1.0\n",
    "Char - 11.61%\n",
    "Plate - 0.00%\n",
    "\n",
    "\n",
    "\n"
   ]
  },
  {
   "cell_type": "markdown",
   "metadata": {},
   "source": [
    "## Plate recognition using one SVM"
   ]
  },
  {
   "cell_type": "markdown",
   "metadata": {},
   "source": [
    "### Creation of the dataset"
   ]
  },
  {
   "cell_type": "code",
   "execution_count": 19,
   "metadata": {},
   "outputs": [],
   "source": [
    "# Function to load images and labels\n",
    "def load_data(folder_path):\n",
    "    train_data = []  # List to store feature vectors (flattened images)\n",
    "    train_labels = []  # List to store labels (corresponding letters/numbers)\n",
    "\n",
    "    for label in os.listdir(folder_path):\n",
    "        label_path = os.path.join(folder_path, label)\n",
    "        for img_name in os.listdir(label_path):\n",
    "            img_path = os.path.join(label_path, img_name)\n",
    "            img = cv2.imread(img_path, cv2.IMREAD_GRAYSCALE)  # Read image as grayscale\n",
    "            img = cv2.resize(img, (20, 20))\n",
    "            img_flattened = img.flatten()  # Flatten image to 1D vector\n",
    "            train_data.append(img_flattened)\n",
    "            train_labels.append(label)  # Append the label (class name)\n",
    "    \n",
    "    return np.array(train_data), np.array(train_labels)"
   ]
  },
  {
   "cell_type": "code",
   "execution_count": 20,
   "metadata": {},
   "outputs": [],
   "source": [
    "# Paths to the digit and letter folders\n",
    "train_path = \"CNN letter Dataset\"\n",
    "\n",
    "# Load digit data\n",
    "X_train, y_train = load_data(train_path)"
   ]
  },
  {
   "cell_type": "code",
   "execution_count": 21,
   "metadata": {},
   "outputs": [
    {
     "name": "stdout",
     "output_type": "stream",
     "text": [
      " DIGITS DATASET\n",
      "Training data shape: (30450, 400)\n",
      "Number of unique classes: 30\n",
      "Classes: ['0' '1' '2' '3' '4' '5' '6' '7' '8' '9' 'B' 'C' 'D' 'F' 'G' 'H' 'J' 'K'\n",
      " 'L' 'M' 'N' 'P' 'R' 'S' 'T' 'V' 'W' 'X' 'Y' 'Z']\n"
     ]
    }
   ],
   "source": [
    "# Printing some information about the datasets\n",
    "\n",
    "print(f' DIGITS DATASET')\n",
    "print(f'Training data shape: {X_train.shape}')\n",
    "print(f\"Number of unique classes: {len(np.unique(y_train))}\")\n",
    "print(f\"Classes: {np.unique(y_train)}\")"
   ]
  },
  {
   "cell_type": "code",
   "execution_count": 22,
   "metadata": {},
   "outputs": [
    {
     "name": "stdout",
     "output_type": "stream",
     "text": [
      "Training data saved to SVMs/models_trained\\train_data_one_svm.pkl\n",
      "Training labels saved to SVMs/models_trained\\train_labels_one_svm.pkl\n"
     ]
    }
   ],
   "source": [
    "# Saving the numbers training data\n",
    "models_folder = \"SVMs/models_trained\"\n",
    "file_x = 'train_data_one_svm.pkl'\n",
    "file_y = 'train_labels_one_svm.pkl'\n",
    "\n",
    "#save the training data and labels\n",
    "path_x = os.path.join(models_folder, file_x)\n",
    "joblib.dump(X_train, path_x)\n",
    "print(f'Training data saved to {path_x}')\n",
    "\n",
    "path_y = os.path.join(models_folder, file_y)\n",
    "joblib.dump(y_train, path_y)\n",
    "print(f'Training labels saved to {path_y}')"
   ]
  },
  {
   "cell_type": "markdown",
   "metadata": {},
   "source": [
    "### Creating the SVM model"
   ]
  },
  {
   "cell_type": "code",
   "execution_count": 23,
   "metadata": {},
   "outputs": [
    {
     "data": {
      "text/plain": [
       "['OCR_models/SVM\\\\svm_only.pkl']"
      ]
     },
     "execution_count": 23,
     "metadata": {},
     "output_type": "execute_result"
    }
   ],
   "source": [
    "#  Train SVM\n",
    "svm_only = SVC(kernel='linear', C=1.0)\n",
    "svm_only.fit(X_train, y_train)\n",
    "\n",
    "models_folder = \"SVMs/models_trained\"\n",
    "ocr_models = \"OCR_models/SVM\"\n",
    "\n",
    "file_name = 'svm_only.pkl'\n",
    "#save the model\n",
    "path_only_svm = os.path.join(models_folder, file_name)\n",
    "joblib.dump(svm_only, path_only_svm)\n",
    "path_only_svm_ocr = os.path.join(ocr_models, file_name)\n",
    "joblib.dump(svm_only, path_only_svm_ocr)"
   ]
  },
  {
   "cell_type": "markdown",
   "metadata": {},
   "source": [
    "### Prediction"
   ]
  },
  {
   "cell_type": "code",
   "execution_count": 28,
   "metadata": {},
   "outputs": [],
   "source": [
    "#function to visualize the full plate prediction with the ground truth\n",
    "def visualize_full_plate(plate_image_path, plate_type, predicted_plate, actual_plate):\n",
    "    img = cv2.imread(plate_image_path, cv2.IMREAD_GRAYSCALE)\n",
    "    \n",
    "    if img is None:\n",
    "        raise ValueError(f\"Could not load the image at {plate_image_path}\")\n",
    "    \n",
    "    # Create a directory path \n",
    "    save_dir = f'OCR_results/SVM'\n",
    "    \n",
    "    # Ensure the directory exists\n",
    "    os.makedirs(save_dir, exist_ok=True)\n",
    "    \n",
    "    # Construct the save path\n",
    "    plate_filename = os.path.basename(plate_image_path).replace('.jpg', '').replace('.png', '')  # Remove file extensions\n",
    "    save_path = os.path.join(save_dir, f'{plate_filename}_{plate_type}_prediction.png')\n",
    "    \n",
    "    # Display the plate image along with ground truth and predicted plate\n",
    "    plt.imshow(img, cmap='gray')\n",
    "    plt.title(f'Ground Truth: {actual_plate}\\nPredicted: {predicted_plate}')\n",
    "    plt.axis('off')\n",
    "    \n",
    "    # Save the visualization\n",
    "    plt.savefig(save_path, bbox_inches='tight', pad_inches=0)\n",
    "    plt.close()  # Close the plot to avoid display during batch processing\n",
    "\n",
    "    print(f\"Saved visualization to {save_path}\")\n",
    "\n",
    "# preprocessing the image for the SVM\n",
    "def preprocess_image_svm(image_path):\n",
    "    char_image = cv2.imread(image_path, cv2.IMREAD_GRAYSCALE)\n",
    "    char_image = cv2.resize(char_image, (20, 20))  # Resize to match the training size\n",
    "    char_image_flattened = char_image.flatten()\n",
    "    return char_image_flattened"
   ]
  },
  {
   "cell_type": "code",
   "execution_count": 29,
   "metadata": {},
   "outputs": [],
   "source": [
    "# Predict characters from a segmented license plate\n",
    "def recognize_characters(plate_folder_path, svm_only):\n",
    "    recognized_plate = []\n",
    "\n",
    "    for idx in range(1, 8):  #assuming 7 blobs (blob_1 to blob_7)\n",
    "        blob_filename = f'blob_{idx}.jpg'\n",
    "        blob_path = os.path.join(plate_folder_path, blob_filename)\n",
    "        if os.path.exists(blob_path):   \n",
    "            char_image = preprocess_image_svm(blob_path) \n",
    "            predicted = svm_only.predict([char_image])[0]\n",
    "\n",
    "            \n",
    "            recognized_plate.append(predicted)\n",
    "\n",
    "    return ''.join(recognized_plate)"
   ]
  },
  {
   "cell_type": "code",
   "execution_count": 35,
   "metadata": {},
   "outputs": [],
   "source": [
    "def process_all_plates(plate_digits_folder, plate_images_folder, svm_only):\n",
    "    correct_predictions_char = 0\n",
    "    correct_predictions_plates = 0\n",
    "    total_characters = 0\n",
    "    total_plates = 0\n",
    "    \n",
    "    #traverse the 'frontal' and 'lateral' folders inside 'PlateDigits'\n",
    "    for plate_type in ['Frontal', 'Lateral']:\n",
    "        plate_type_folder = os.path.join(plate_digits_folder, plate_type)\n",
    "        \n",
    "        #iterate through each license plate folder inside 'frontal' or 'lateral'\n",
    "        for root, dirs, _ in os.walk(plate_type_folder):\n",
    "            for dir_name in dirs:\n",
    "                plate_folder_path = os.path.join(root, dir_name)\n",
    "                \n",
    "                #the actual plate number is derived from the folder name, removing the '.jpg' extension\n",
    "                actual_plate = dir_name.replace('.jpg', '')  # Remove '.jpg'\n",
    "                \n",
    "                #predict the full plate by processing the 7 blobs\n",
    "                predicted_plate = recognize_characters(plate_folder_path, svm_only)\n",
    "                \n",
    "                #now search in PlateImages based on the 'plate_type' (frontal or lateral)\n",
    "                plate_image_path_jpg = os.path.join(plate_images_folder, plate_type.capitalize(), f'plate_{actual_plate}.jpg')\n",
    "                plate_image_path_png = os.path.join(plate_images_folder, plate_type.capitalize(), f'plate_{actual_plate}.png')\n",
    "\n",
    "                #visualize the prediction with the plate image if it exists\n",
    "                if os.path.exists(plate_image_path_jpg):\n",
    "                    visualize_full_plate(plate_image_path_jpg, plate_type, predicted_plate, actual_plate)\n",
    "                    print(f\"Processed Plate: {actual_plate} ({plate_type}) | Predicted: {predicted_plate}\")\n",
    "                elif os.path.exists(plate_image_path_png):\n",
    "                    visualize_full_plate(plate_image_path_png, predicted_plate, actual_plate)\n",
    "                    print(f\"Processed Plate: {actual_plate} ({plate_type}) | Predicted: {predicted_plate}\")\n",
    "                else:\n",
    "                    print(f\"Warning: Plate image for {actual_plate} in {plate_type.capitalize()} does not exist.\")\n",
    "\n",
    "                #update total characters and correct predictions\n",
    "                total_characters += len(actual_plate)  # Add the number of characters in the actual plate\n",
    "                correct_predictions_char += sum(1 for i in range(min(len(actual_plate), len(predicted_plate))) \n",
    "                                            if actual_plate[i] == predicted_plate[i])  # Count correct characters\n",
    "                # Update total plates and correct plate predictions\n",
    "                total_plates += 1  # Count total number of plates processed\n",
    "                if actual_plate == predicted_plate:  # Compare entire plate\n",
    "                    correct_predictions_plates += 1\n",
    "    \n",
    "    #compute and print accuracy based on individual characters\n",
    "    if total_characters > 0:\n",
    "        accuracy = (correct_predictions_char / total_characters) * 100\n",
    "        print(f\"\\nCharacter-Level Accuracy: {accuracy:.2f}% ({correct_predictions_char} correct out of {total_characters})\")\n",
    "    # Compute and print plate-level accuracy\n",
    "    if total_plates > 0:\n",
    "        plate_accuracy = (correct_predictions_plates / total_plates) * 100\n",
    "        print(f\"\\nPlate-Level Accuracy: {plate_accuracy:.2f}% ({correct_predictions_plates} correct out of {total_plates} plates)\")\n",
    "    else:\n",
    "        print(\"No characters were processed.\")"
   ]
  },
  {
   "cell_type": "markdown",
   "metadata": {},
   "source": [
    "### Validation with Frontal and Lateral"
   ]
  },
  {
   "cell_type": "code",
   "execution_count": 36,
   "metadata": {},
   "outputs": [
    {
     "name": "stdout",
     "output_type": "stream",
     "text": [
      "Saved visualization to OCR_results/SVM\\plate_1062FNT_Frontal_prediction.png\n",
      "Processed Plate: 1062FNT (Frontal) | Predicted: 1062FNT\n",
      "Saved visualization to OCR_results/SVM\\plate_1565HTS_Frontal_prediction.png\n",
      "Processed Plate: 1565HTS (Frontal) | Predicted: 1S65HTS\n",
      "Saved visualization to OCR_results/SVM\\plate_2153GYX_Frontal_prediction.png\n",
      "Processed Plate: 2153GYX (Frontal) | Predicted: 2153GYX\n",
      "Saved visualization to OCR_results/SVM\\plate_2929KXJ_Frontal_prediction.png\n",
      "Processed Plate: 2929KXJ (Frontal) | Predicted: 2929KXJ\n",
      "Saved visualization to OCR_results/SVM\\plate_3340JMF_Frontal_prediction.png\n",
      "Processed Plate: 3340JMF (Frontal) | Predicted: 9940JVF\n",
      "Saved visualization to OCR_results/SVM\\plate_3587DCX_Frontal_prediction.png\n",
      "Processed Plate: 3587DCX (Frontal) | Predicted: 9S870CX\n",
      "Saved visualization to OCR_results/SVM\\plate_4674FHC_Frontal_prediction.png\n",
      "Processed Plate: 4674FHC (Frontal) | Predicted: 4674FHC\n",
      "Saved visualization to OCR_results/SVM\\plate_5275HGY_Frontal_prediction.png\n",
      "Processed Plate: 5275HGY (Frontal) | Predicted: 5275HGY\n",
      "Saved visualization to OCR_results/SVM\\plate_5488LKV_Frontal_prediction.png\n",
      "Processed Plate: 5488LKV (Frontal) | Predicted: S488LKV\n",
      "Saved visualization to OCR_results/SVM\\plate_5796DKP_Frontal_prediction.png\n",
      "Processed Plate: 5796DKP (Frontal) | Predicted: 57960KP\n",
      "Saved visualization to OCR_results/SVM\\plate_7067KSH_Frontal_prediction.png\n",
      "Processed Plate: 7067KSH (Frontal) | Predicted: 7067KSH\n",
      "Saved visualization to OCR_results/SVM\\plate_7153JWD_Frontal_prediction.png\n",
      "Processed Plate: 7153JWD (Frontal) | Predicted: 71S3JMD\n",
      "Saved visualization to OCR_results/SVM\\plate_8727JTC_Frontal_prediction.png\n",
      "Processed Plate: 8727JTC (Frontal) | Predicted: 8727JTC\n",
      "Saved visualization to OCR_results/SVM\\plate_9247CZG_Frontal_prediction.png\n",
      "Processed Plate: 9247CZG (Frontal) | Predicted: 9247CZG\n",
      "Saved visualization to OCR_results/SVM\\plate_9892JFR_Frontal_prediction.png\n",
      "Processed Plate: 9892JFR (Frontal) | Predicted: 9892JFR\n",
      "Saved visualization to OCR_results/SVM\\plate_0182GLK_Lateral_prediction.png\n",
      "Processed Plate: 0182GLK (Lateral) | Predicted: 01B2GLK\n",
      "Saved visualization to OCR_results/SVM\\plate_0907JRF_Lateral_prediction.png\n",
      "Processed Plate: 0907JRF (Lateral) | Predicted: D907JRF\n",
      "Saved visualization to OCR_results/SVM\\plate_1498JBZ_Lateral_prediction.png\n",
      "Processed Plate: 1498JBZ (Lateral) | Predicted: 1W989ZM\n",
      "Saved visualization to OCR_results/SVM\\plate_1556GMZ_Lateral_prediction.png\n",
      "Processed Plate: 1556GMZ (Lateral) | Predicted: 1S56GVZ\n",
      "Saved visualization to OCR_results/SVM\\plate_2344KJP_Lateral_prediction.png\n",
      "Processed Plate: 2344KJP (Lateral) | Predicted: 2944KJP\n",
      "Saved visualization to OCR_results/SVM\\plate_3044JMB_Lateral_prediction.png\n",
      "Processed Plate: 3044JMB (Lateral) | Predicted: 3044JVB\n",
      "Saved visualization to OCR_results/SVM\\plate_3587DCX_Lateral_prediction.png\n",
      "Processed Plate: 3587DCX (Lateral) | Predicted: 3S87DCX\n",
      "Saved visualization to OCR_results/SVM\\plate_3660CRT_Lateral_prediction.png\n",
      "Processed Plate: 3660CRT (Lateral) | Predicted: 3660CRT\n",
      "Saved visualization to OCR_results/SVM\\plate_4674FHC_Lateral_prediction.png\n",
      "Processed Plate: 4674FHC (Lateral) | Predicted: 4674FHC\n",
      "Saved visualization to OCR_results/SVM\\plate_5275HGY_Lateral_prediction.png\n",
      "Processed Plate: 5275HGY (Lateral) | Predicted: 5275HG1\n",
      "Saved visualization to OCR_results/SVM\\plate_5789JHB_Lateral_prediction.png\n",
      "Processed Plate: 5789JHB (Lateral) | Predicted: 57B9JHB\n",
      "Saved visualization to OCR_results/SVM\\plate_5796DKP_Lateral_prediction.png\n",
      "Processed Plate: 5796DKP (Lateral) | Predicted: S096019\n",
      "Saved visualization to OCR_results/SVM\\plate_6000GVT_Lateral_prediction.png\n",
      "Processed Plate: 6000GVT (Lateral) | Predicted: 6000GVT\n",
      "Saved visualization to OCR_results/SVM\\plate_6401JBX_Lateral_prediction.png\n",
      "Processed Plate: 6401JBX (Lateral) | Predicted: 6401JBX\n",
      "Saved visualization to OCR_results/SVM\\plate_6554BNX_Lateral_prediction.png\n",
      "Processed Plate: 6554BNX (Lateral) | Predicted: 68S48NX\n",
      "Saved visualization to OCR_results/SVM\\plate_6929LKK_Lateral_prediction.png\n",
      "Processed Plate: 6929LKK (Lateral) | Predicted: 6929LKK\n",
      "Saved visualization to OCR_results/SVM\\plate_8727JTC_Lateral_prediction.png\n",
      "Processed Plate: 8727JTC (Lateral) | Predicted: B727JTC\n",
      "\n",
      "Character-Level Accuracy: 85.27% (191 correct out of 224)\n",
      "\n",
      "Plate-Level Accuracy: 43.75% (14 correct out of 32 plates)\n"
     ]
    }
   ],
   "source": [
    "plate_digits_folder = 'PlateDigits'  # Contains 'frontal' and 'lateral' with blobs\n",
    "plate_images_folder = 'PlateImages'  # Contains full plate images\n",
    "\n",
    "#run the function to process and visualize all plates and compute accuracy\n",
    "process_all_plates(plate_digits_folder, plate_images_folder, svm_only)"
   ]
  },
  {
   "cell_type": "markdown",
   "metadata": {},
   "source": [
    "### HYPERPARAMETIZATION"
   ]
  },
  {
   "cell_type": "markdown",
   "metadata": {},
   "source": [
    "SVC LINEAR AND C=1.0\n",
    "Char - 85.27%\n",
    "Plate - 43.75%\n",
    "\n",
    "SVC RBF AND C=1.0\n",
    "Char - 85.27%\n",
    "Plate - 43.75%\n",
    "\n",
    "SVC POLY AND C=1.0\n",
    "Char - 85.71%\n",
    "Plate - 50.00%\n",
    "\n",
    "SVC SIGMOID AND C=1.0\n",
    "Char - 7.14%\n",
    "Plate - 0.00%\n",
    "\n",
    "\n",
    "\n"
   ]
  },
  {
   "cell_type": "markdown",
   "metadata": {},
   "source": [
    "### Testing with Extra"
   ]
  },
  {
   "cell_type": "code",
   "execution_count": 34,
   "metadata": {},
   "outputs": [
    {
     "name": "stdout",
     "output_type": "stream",
     "text": [
      "No characters were processed.\n"
     ]
    }
   ],
   "source": [
    "plate_digits_folder = 'PlateDigits/Extra'  # Contains 'frontal' and 'lateral' with blobs\n",
    "plate_images_folder = 'PlateImages/Extra'  # Contains full plate images\n",
    "\n",
    "#run the function to process and visualize all plates and compute accuracy\n",
    "process_all_plates(plate_digits_folder, plate_images_folder, svm_only)"
   ]
  },
  {
   "cell_type": "markdown",
   "metadata": {},
   "source": []
  }
 ],
 "metadata": {
  "kernelspec": {
   "display_name": "license_plates",
   "language": "python",
   "name": "python3"
  },
  "language_info": {
   "codemirror_mode": {
    "name": "ipython",
    "version": 3
   },
   "file_extension": ".py",
   "mimetype": "text/x-python",
   "name": "python",
   "nbconvert_exporter": "python",
   "pygments_lexer": "ipython3",
   "version": "3.12.6"
  }
 },
 "nbformat": 4,
 "nbformat_minor": 2
}
