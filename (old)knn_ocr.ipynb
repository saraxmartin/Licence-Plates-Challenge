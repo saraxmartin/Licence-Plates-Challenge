{
 "cells": [
  {
   "cell_type": "code",
   "execution_count": 37,
   "metadata": {},
   "outputs": [],
   "source": [
    "import numpy as np\n",
    "import cv2\n",
    "import os\n",
    "from sklearn.preprocessing import LabelEncoder\n",
    "from sklearn.neighbors import KNeighborsClassifier\n",
    "from sklearn.model_selection import train_test_split\n",
    "import joblib\n",
    "import matplotlib.pyplot as plt\n",
    "import pickle"
   ]
  },
  {
   "cell_type": "code",
   "execution_count": 38,
   "metadata": {},
   "outputs": [
    {
     "name": "stdout",
     "output_type": "stream",
     "text": [
      "Label encoder saved successfully!\n",
      "Training data shape: (30450, 400)\n",
      "Number of samples: 30450\n",
      "Classes: ['0' '1' '2' '3' '4' '5' '6' '7' '8' '9' 'B' 'C' 'D' 'F' 'G' 'H' 'J' 'K'\n",
      " 'L' 'M' 'N' 'P' 'R' 'S' 'T' 'V' 'W' 'X' 'Y' 'Z']\n"
     ]
    }
   ],
   "source": [
    "dataset_path = 'CNN letter Dataset'\n",
    "IMG_SIZE = 20  # 20x20 pixels\n",
    "\n",
    "def load_dataset(dataset_path):\n",
    "    train_data = []\n",
    "    train_labels = []\n",
    "\n",
    "    #iterate over each digit/letter folder (e.g., 0, A, B, etc.)\n",
    "    for label in os.listdir(dataset_path):\n",
    "        label_path = os.path.join(dataset_path, label)\n",
    "\n",
    "        #ensure the folder name is a valid digit/letter\n",
    "        if label.isalnum():  # Checks if the folder name is alphanumeric (A-Z, 0-9)\n",
    "            #iterate over each image file in the digit/letter folder\n",
    "            for img_name in os.listdir(label_path):\n",
    "                img_path = os.path.join(label_path, img_name)\n",
    "\n",
    "                #load the image in grayscale\n",
    "                img = cv2.imread(img_path, cv2.IMREAD_GRAYSCALE)\n",
    "\n",
    "                #resize to a fixed size (20x20)\n",
    "                img_resized = cv2.resize(img, (IMG_SIZE, IMG_SIZE))\n",
    "\n",
    "                #flatten the image into a single feature vector\n",
    "                img_flattened = img_resized.flatten()\n",
    "\n",
    "                #append the image data and label\n",
    "                train_data.append(img_flattened)\n",
    "                train_labels.append(label)  # Use folder name as the label\n",
    "    \n",
    "    #convert lists to NumPy arrays\n",
    "    train_data = np.array(train_data, dtype=np.float32)\n",
    "    train_labels = np.array(train_labels)\n",
    "    \n",
    "    return train_data, train_labels\n",
    "\n",
    "#load the dataset\n",
    "train_data, train_labels = load_dataset(dataset_path)\n",
    "\n",
    "#encode labels as integers (since KNN needs numerical labels)\n",
    "label_encoder = LabelEncoder()\n",
    "train_labels_encoded = label_encoder.fit_transform(train_labels)\n",
    "with open('label_encoder_without_vowels.pkl', 'wb') as encoder_file:\n",
    "    pickle.dump(label_encoder, encoder_file)\n",
    "\n",
    "print(\"Label encoder saved successfully!\")\n",
    "#print some information about the dataset\n",
    "print(f'Training data shape: {train_data.shape}')\n",
    "print(f'Number of samples: {len(train_labels)}')\n",
    "print(f'Classes: {label_encoder.classes_}')"
   ]
  },
  {
   "cell_type": "code",
   "execution_count": 39,
   "metadata": {},
   "outputs": [
    {
     "name": "stdout",
     "output_type": "stream",
     "text": [
      "Training data saved to train_data.pkl\n",
      "Training labels saved to train_labels.pkl\n"
     ]
    }
   ],
   "source": [
    "#SAVING DATA\n",
    "#assuming train_data and train_labels_encoded are already defined\n",
    "data_filename = 'train_data.pkl'\n",
    "labels_filename = 'train_labels.pkl'\n",
    "\n",
    "#save the training data and labels\n",
    "joblib.dump(train_data, data_filename)\n",
    "print(f'Training data saved to {data_filename}')\n",
    "\n",
    "joblib.dump(train_labels_encoded, labels_filename)\n",
    "print(f'Training labels saved to {labels_filename}')"
   ]
  },
  {
   "cell_type": "code",
   "execution_count": 40,
   "metadata": {},
   "outputs": [
    {
     "name": "stdout",
     "output_type": "stream",
     "text": [
      "Training data shape: (24360, 400), Training labels shape: (24360,)\n",
      "Test data shape: (6090, 400), Test labels shape: (6090,)\n",
      "Model saved to knn_model3.pkl\n",
      "Accuracy on test set: 98.95%\n",
      "              precision    recall  f1-score   support\n",
      "\n",
      "           0       0.97      0.98      0.98       186\n",
      "           1       0.98      0.99      0.99       191\n",
      "           2       0.99      0.96      0.98       206\n",
      "           3       1.00      1.00      1.00       214\n",
      "           4       1.00      1.00      1.00       211\n",
      "           5       1.00      1.00      1.00       209\n",
      "           6       0.95      0.97      0.96       203\n",
      "           7       0.99      0.98      0.98       219\n",
      "           8       0.97      0.94      0.95       209\n",
      "           9       0.97      0.98      0.97       200\n",
      "          10       0.98      0.98      0.98       204\n",
      "          11       0.99      0.99      0.99       197\n",
      "          12       0.98      0.98      0.98       204\n",
      "          13       0.99      1.00      1.00       201\n",
      "          14       0.99      0.98      0.98       216\n",
      "          15       1.00      1.00      1.00       221\n",
      "          16       0.99      1.00      1.00       193\n",
      "          17       1.00      1.00      1.00       210\n",
      "          18       0.99      0.99      0.99       195\n",
      "          19       1.00      1.00      1.00       185\n",
      "          20       1.00      1.00      1.00       204\n",
      "          21       0.99      0.99      0.99       199\n",
      "          22       1.00      1.00      1.00       200\n",
      "          23       0.98      0.99      0.99       228\n",
      "          24       0.99      1.00      0.99       223\n",
      "          25       1.00      0.99      1.00       211\n",
      "          26       1.00      1.00      1.00       196\n",
      "          27       1.00      1.00      1.00       191\n",
      "          28       0.99      1.00      1.00       204\n",
      "          29       1.00      0.99      1.00       160\n",
      "\n",
      "    accuracy                           0.99      6090\n",
      "   macro avg       0.99      0.99      0.99      6090\n",
      "weighted avg       0.99      0.99      0.99      6090\n",
      "\n"
     ]
    }
   ],
   "source": [
    "X = train_data  #features\n",
    "y = train_labels_encoded  #labels\n",
    "\n",
    "#split data into training and testing sets\n",
    "X_train, X_test, y_train, y_test = train_test_split(X, y, test_size=0.2, random_state=42)\n",
    "\n",
    "print(f'Training data shape: {X_train.shape}, Training labels shape: {y_train.shape}')\n",
    "print(f'Test data shape: {X_test.shape}, Test labels shape: {y_test.shape}')\n",
    "\n",
    "from sklearn.neighbors import KNeighborsClassifier\n",
    "\n",
    "n_neighbors = 2\n",
    "#create a KNN model\n",
    "knn = KNeighborsClassifier(n_neighbors=n_neighbors)\n",
    "\n",
    "#fit the model on the training data\n",
    "knn.fit(X_train, y_train)\n",
    "\n",
    "model_filename = 'knn_model'+str(n_neighbors)+'.pkl'\n",
    "#save the trained KNN model\n",
    "joblib.dump(knn, model_filename)\n",
    "print(f'Model saved to {model_filename}')\n",
    "\n",
    "#make predictions on the test set\n",
    "y_pred = knn.predict(X_test)\n",
    "\n",
    "from sklearn.metrics import accuracy_score, classification_report\n",
    "\n",
    "#calculate accuracy\n",
    "accuracy = accuracy_score(y_test, y_pred)\n",
    "print(f'Accuracy on test set: {accuracy * 100:.2f}%')\n",
    "\n",
    "#print classification report for detailed metrics\n",
    "print(classification_report(y_test, y_pred))"
   ]
  },
  {
   "cell_type": "code",
   "execution_count": 41,
   "metadata": {},
   "outputs": [
    {
     "data": {
      "image/png": "[encoded data removed]",
      "text/plain": [
       "<Figure size 1200x600 with 10 Axes>"
      ]
     },
     "metadata": {},
     "output_type": "display_data"
    }
   ],
   "source": [
    "#convert predictions and ground truth back to letters\n",
    "ground_truth_letters = label_encoder.inverse_transform(y_test)\n",
    "predicted_letters = label_encoder.inverse_transform(y_pred)\n",
    "\n",
    "#define the number of images to display\n",
    "num_images_to_display = 10\n",
    "\n",
    "#select a subset of images and their corresponding labels and predictions\n",
    "indices = np.random.choice(range(len(y_test)), size=num_images_to_display, replace=False)\n",
    "ground_truth = ground_truth_letters[indices]\n",
    "predictions = predicted_letters[indices]\n",
    "test_images = X_test[indices].reshape(-1, 20, 20)  #reshape if necessary to original image dimensions\n",
    "\n",
    "#set up the plot\n",
    "plt.figure(figsize=(12, 6))\n",
    "\n",
    "for i in range(num_images_to_display):\n",
    "    plt.subplot(2, num_images_to_display // 2, i + 1)\n",
    "    plt.imshow(test_images[i], cmap='gray')\n",
    "    plt.title(f'Truth: {ground_truth[i]}\\nPred: {predictions[i]}')\n",
    "    plt.axis('off')\n",
    "\n",
    "plt.tight_layout()\n",
    "plt.show()"
   ]
  }
 ],
 "metadata": {
  "kernelspec": {
   "display_name": "Python 3",
   "language": "python",
   "name": "python3"
  },
  "language_info": {
   "codemirror_mode": {
    "name": "ipython",
    "version": 3
   },
   "file_extension": ".py",
   "mimetype": "text/x-python",
   "name": "python",
   "nbconvert_exporter": "python",
   "pygments_lexer": "ipython3",
   "version": "3.11.4"
  }
 },
 "nbformat": 4,
 "nbformat_minor": 2
}
